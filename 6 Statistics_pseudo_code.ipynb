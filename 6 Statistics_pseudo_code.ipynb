{
 "cells": [
  {
   "cell_type": "code",
   "execution_count": 1,
   "id": "dbdd6266",
   "metadata": {},
   "outputs": [],
   "source": [
    "import scipy.stats as spt\n",
    "import numpy as np\n",
    "import pandas as pd\n",
    "import statsmodels.api as sm\n",
    "from statsmodels.formula.api import ols\n",
    "from statsmodels.stats.anova import anova_lm"
   ]
  },
  {
   "cell_type": "code",
   "execution_count": 2,
   "id": "17880f4b",
   "metadata": {},
   "outputs": [
    {
     "name": "stdout",
     "output_type": "stream",
     "text": [
      "ShapiroResult(statistic=0.9097163081169128, pvalue=0.2115684449672699) \n",
      "\n",
      "ShapiroResult(statistic=0.9328135251998901, pvalue=0.41089069843292236) \n",
      "\n",
      "ShapiroResult(statistic=0.9695447683334351, pvalue=0.9059768915176392) \n",
      "\n",
      "ShapiroResult(statistic=0.9313449859619141, pvalue=0.39458659291267395) \n",
      "\n",
      "LeveneResult(statistic=0.29485921693349876, pvalue=0.8288903318657788) \n",
      "\n",
      "BartlettResult(statistic=0.7750467373461302, pvalue=0.8554257361613797)\n"
     ]
    }
   ],
   "source": [
    "data2=pd.read_csv('temp.csv')\n",
    "\n",
    "print(spt.shapiro(data2.SCORE[data2.GRADE=='fre']),'\\n')\n",
    "print(spt.shapiro(data2.SCORE[data2.GRADE=='sop']),'\\n')\n",
    "print(spt.shapiro(data2.SCORE[data2.GRADE=='jun']),'\\n')\n",
    "print(spt.shapiro(data2.SCORE[data2.GRADE=='sen']),'\\n')\n",
    "\n",
    "print(spt.levene(data2.SCORE[data2.GRADE=='fre'],data2.SCORE[data2.GRADE=='sop'],\n",
    "                 data2.SCORE[data2.GRADE=='jun'],data2.SCORE[data2.GRADE=='sen']),'\\n')\n",
    "\n",
    "print(spt.bartlett(data2.SCORE[data2.GRADE=='fre'],data2.SCORE[data2.GRADE=='sop'],\n",
    "                   data2.SCORE[data2.GRADE=='jun'],data2.SCORE[data2.GRADE=='sen']))"
   ]
  },
  {
   "cell_type": "code",
   "execution_count": 3,
   "id": "adfc59a5",
   "metadata": {},
   "outputs": [
    {
     "name": "stdout",
     "output_type": "stream",
     "text": [
      "F_onewayResult(statistic=0.7496788922095763, pvalue=0.5284052378268367) \n",
      "\n"
     ]
    },
    {
     "data": {
      "text/html": [
       "<div>\n",
       "<style scoped>\n",
       "    .dataframe tbody tr th:only-of-type {\n",
       "        vertical-align: middle;\n",
       "    }\n",
       "\n",
       "    .dataframe tbody tr th {\n",
       "        vertical-align: top;\n",
       "    }\n",
       "\n",
       "    .dataframe thead th {\n",
       "        text-align: right;\n",
       "    }\n",
       "</style>\n",
       "<table border=\"1\" class=\"dataframe\">\n",
       "  <thead>\n",
       "    <tr style=\"text-align: right;\">\n",
       "      <th></th>\n",
       "      <th>df</th>\n",
       "      <th>sum_sq</th>\n",
       "      <th>mean_sq</th>\n",
       "      <th>F</th>\n",
       "      <th>PR(&gt;F)</th>\n",
       "    </tr>\n",
       "  </thead>\n",
       "  <tbody>\n",
       "    <tr>\n",
       "      <th>C(GRADE)</th>\n",
       "      <td>3.0</td>\n",
       "      <td>1241.395833</td>\n",
       "      <td>413.798611</td>\n",
       "      <td>0.749679</td>\n",
       "      <td>0.528405</td>\n",
       "    </tr>\n",
       "    <tr>\n",
       "      <th>Residual</th>\n",
       "      <td>44.0</td>\n",
       "      <td>24286.583333</td>\n",
       "      <td>551.967803</td>\n",
       "      <td>NaN</td>\n",
       "      <td>NaN</td>\n",
       "    </tr>\n",
       "  </tbody>\n",
       "</table>\n",
       "</div>"
      ],
      "text/plain": [
       "            df        sum_sq     mean_sq         F    PR(>F)\n",
       "C(GRADE)   3.0   1241.395833  413.798611  0.749679  0.528405\n",
       "Residual  44.0  24286.583333  551.967803       NaN       NaN"
      ]
     },
     "execution_count": 3,
     "metadata": {},
     "output_type": "execute_result"
    }
   ],
   "source": [
    "print(spt.f_oneway(data2.SCORE[data2.GRADE=='fre'],data2.SCORE[data2.GRADE=='sop'],\n",
    "             data2.SCORE[data2.GRADE=='jun'],data2.SCORE[data2.GRADE=='sen']),'\\n')\n",
    "\n",
    "model2=ols('SCORE ~ C(GRADE)',data=data2).fit()\n",
    "anova_lm(model2)"
   ]
  },
  {
   "cell_type": "code",
   "execution_count": 4,
   "id": "8fec5a74",
   "metadata": {},
   "outputs": [
    {
     "name": "stdout",
     "output_type": "stream",
     "text": [
      "ShapiroResult(statistic=0.9248653054237366, pvalue=0.3288426399230957) \n",
      "\n",
      "ShapiroResult(statistic=0.9146616458892822, pvalue=0.24471063911914825) \n",
      "\n",
      "ShapiroResult(statistic=0.9890144467353821, pvalue=0.9995220303535461) \n",
      "\n",
      "ShapiroResult(statistic=0.9324204325675964, pvalue=0.406475305557251) \n",
      "\n",
      "LeveneResult(statistic=1.2523157647372425, pvalue=0.3023830579547205) \n",
      "\n",
      "BartlettResult(statistic=2.751186986101656, pvalue=0.4315985695332628)\n"
     ]
    }
   ],
   "source": [
    "print(spt.shapiro(data2.SCORE[data2.CLASS=='A']),'\\n')\n",
    "print(spt.shapiro(data2.SCORE[data2.CLASS=='B']),'\\n')\n",
    "print(spt.shapiro(data2.SCORE[data2.CLASS=='C']),'\\n')\n",
    "print(spt.shapiro(data2.SCORE[data2.CLASS=='D']),'\\n')\n",
    "\n",
    "print(spt.levene(data2.SCORE[data2.CLASS=='A'],data2.SCORE[data2.CLASS=='B'],\n",
    "                 data2.SCORE[data2.CLASS=='C'],data2.SCORE[data2.CLASS=='D']),'\\n')\n",
    "\n",
    "print(spt.bartlett(data2.SCORE[data2.CLASS=='A'],data2.SCORE[data2.CLASS=='B'],\n",
    "                   data2.SCORE[data2.CLASS=='C'],data2.SCORE[data2.CLASS=='D']))"
   ]
  },
  {
   "cell_type": "code",
   "execution_count": 5,
   "id": "3d9bb590",
   "metadata": {},
   "outputs": [
    {
     "name": "stdout",
     "output_type": "stream",
     "text": [
      "F_onewayResult(statistic=2.471629596005447, pvalue=0.0742083884865057) \n",
      "\n"
     ]
    },
    {
     "data": {
      "text/html": [
       "<div>\n",
       "<style scoped>\n",
       "    .dataframe tbody tr th:only-of-type {\n",
       "        vertical-align: middle;\n",
       "    }\n",
       "\n",
       "    .dataframe tbody tr th {\n",
       "        vertical-align: top;\n",
       "    }\n",
       "\n",
       "    .dataframe thead th {\n",
       "        text-align: right;\n",
       "    }\n",
       "</style>\n",
       "<table border=\"1\" class=\"dataframe\">\n",
       "  <thead>\n",
       "    <tr style=\"text-align: right;\">\n",
       "      <th></th>\n",
       "      <th>df</th>\n",
       "      <th>sum_sq</th>\n",
       "      <th>mean_sq</th>\n",
       "      <th>F</th>\n",
       "      <th>PR(&gt;F)</th>\n",
       "    </tr>\n",
       "  </thead>\n",
       "  <tbody>\n",
       "    <tr>\n",
       "      <th>C(CLASS)</th>\n",
       "      <td>3.0</td>\n",
       "      <td>3681.562500</td>\n",
       "      <td>1227.18750</td>\n",
       "      <td>2.47163</td>\n",
       "      <td>0.074208</td>\n",
       "    </tr>\n",
       "    <tr>\n",
       "      <th>Residual</th>\n",
       "      <td>44.0</td>\n",
       "      <td>21846.416667</td>\n",
       "      <td>496.50947</td>\n",
       "      <td>NaN</td>\n",
       "      <td>NaN</td>\n",
       "    </tr>\n",
       "  </tbody>\n",
       "</table>\n",
       "</div>"
      ],
      "text/plain": [
       "            df        sum_sq     mean_sq        F    PR(>F)\n",
       "C(CLASS)   3.0   3681.562500  1227.18750  2.47163  0.074208\n",
       "Residual  44.0  21846.416667   496.50947      NaN       NaN"
      ]
     },
     "execution_count": 5,
     "metadata": {},
     "output_type": "execute_result"
    }
   ],
   "source": [
    "print(spt.f_oneway(data2.SCORE[data2.CLASS=='A'],data2.SCORE[data2.CLASS=='B'],\n",
    "             data2.SCORE[data2.CLASS=='C'],data2.SCORE[data2.CLASS=='D']),'\\n')\n",
    "\n",
    "model3=ols('SCORE ~ C(CLASS)',data=data2).fit()\n",
    "anova_lm(model3)"
   ]
  },
  {
   "cell_type": "code",
   "execution_count": 6,
   "id": "03fe774c",
   "metadata": {},
   "outputs": [
    {
     "data": {
      "text/html": [
       "<div>\n",
       "<style scoped>\n",
       "    .dataframe tbody tr th:only-of-type {\n",
       "        vertical-align: middle;\n",
       "    }\n",
       "\n",
       "    .dataframe tbody tr th {\n",
       "        vertical-align: top;\n",
       "    }\n",
       "\n",
       "    .dataframe thead th {\n",
       "        text-align: right;\n",
       "    }\n",
       "</style>\n",
       "<table border=\"1\" class=\"dataframe\">\n",
       "  <thead>\n",
       "    <tr style=\"text-align: right;\">\n",
       "      <th></th>\n",
       "      <th>df</th>\n",
       "      <th>sum_sq</th>\n",
       "      <th>mean_sq</th>\n",
       "      <th>F</th>\n",
       "      <th>PR(&gt;F)</th>\n",
       "    </tr>\n",
       "  </thead>\n",
       "  <tbody>\n",
       "    <tr>\n",
       "      <th>C(GRADE)</th>\n",
       "      <td>3.0</td>\n",
       "      <td>1241.395833</td>\n",
       "      <td>413.798611</td>\n",
       "      <td>0.863074</td>\n",
       "      <td>0.468369</td>\n",
       "    </tr>\n",
       "    <tr>\n",
       "      <th>C(CLASS)</th>\n",
       "      <td>3.0</td>\n",
       "      <td>4983.185764</td>\n",
       "      <td>1661.061921</td>\n",
       "      <td>3.464535</td>\n",
       "      <td>0.025226</td>\n",
       "    </tr>\n",
       "    <tr>\n",
       "      <th>C(GRADE):C(CLASS)</th>\n",
       "      <td>9.0</td>\n",
       "      <td>3509.013864</td>\n",
       "      <td>389.890429</td>\n",
       "      <td>0.813208</td>\n",
       "      <td>0.607178</td>\n",
       "    </tr>\n",
       "    <tr>\n",
       "      <th>Residual</th>\n",
       "      <td>39.0</td>\n",
       "      <td>18698.444444</td>\n",
       "      <td>479.447293</td>\n",
       "      <td>NaN</td>\n",
       "      <td>NaN</td>\n",
       "    </tr>\n",
       "  </tbody>\n",
       "</table>\n",
       "</div>"
      ],
      "text/plain": [
       "                     df        sum_sq      mean_sq         F    PR(>F)\n",
       "C(GRADE)            3.0   1241.395833   413.798611  0.863074  0.468369\n",
       "C(CLASS)            3.0   4983.185764  1661.061921  3.464535  0.025226\n",
       "C(GRADE):C(CLASS)   9.0   3509.013864   389.890429  0.813208  0.607178\n",
       "Residual           39.0  18698.444444   479.447293       NaN       NaN"
      ]
     },
     "execution_count": 6,
     "metadata": {},
     "output_type": "execute_result"
    }
   ],
   "source": [
    "model4=ols('SCORE ~ C(GRADE)*C(CLASS)',data=data2).fit()\n",
    "anova_lm(model4)"
   ]
  },
  {
   "cell_type": "code",
   "execution_count": 7,
   "id": "daec6ca7",
   "metadata": {},
   "outputs": [
    {
     "name": "stdout",
     "output_type": "stream",
     "text": [
      "Test Multiple Comparison ttest_ind \n",
      "FWER=0.05 method=bonf\n",
      "alphacSidak=0.01, alphacBonf=0.008\n",
      "=============================================\n",
      "group1 group2   stat   pval  pval_corr reject\n",
      "---------------------------------------------\n",
      "     A      B -1.1321 0.2698       1.0  False\n",
      "     A      C -1.2948 0.2088       1.0  False\n",
      "     A      D -3.0609 0.0057    0.0344   True\n",
      "     B      C   -0.05 0.9606       1.0  False\n",
      "     B      D  -1.485 0.1517    0.9104  False\n",
      "     C      D -1.6151 0.1206    0.7233  False\n",
      "---------------------------------------------\n"
     ]
    },
    {
     "data": {
      "text/html": [
       "<table class=\"simpletable\">\n",
       "<caption>Multiple Comparison of Means - Tukey HSD, FWER=0.05</caption>\n",
       "<tr>\n",
       "  <th>group1</th> <th>group2</th> <th>meandiff</th>  <th>p-adj</th>   <th>lower</th>   <th>upper</th>  <th>reject</th>\n",
       "</tr>\n",
       "<tr>\n",
       "     <td>A</td>      <td>B</td>     <td>11.5</td>   <td>0.5807</td> <td>-12.7901</td> <td>35.7901</td>  <td>False</td>\n",
       "</tr>\n",
       "<tr>\n",
       "     <td>A</td>      <td>C</td>     <td>12.0</td>   <td>0.5503</td> <td>-12.2901</td> <td>36.2901</td>  <td>False</td>\n",
       "</tr>\n",
       "<tr>\n",
       "     <td>A</td>      <td>D</td>     <td>24.75</td>  <td>0.0444</td>  <td>0.4599</td>  <td>49.0401</td>  <td>True</td> \n",
       "</tr>\n",
       "<tr>\n",
       "     <td>B</td>      <td>C</td>      <td>0.5</td>     <td>0.9</td>  <td>-23.7901</td> <td>24.7901</td>  <td>False</td>\n",
       "</tr>\n",
       "<tr>\n",
       "     <td>B</td>      <td>D</td>     <td>13.25</td>  <td>0.4729</td> <td>-11.0401</td> <td>37.5401</td>  <td>False</td>\n",
       "</tr>\n",
       "<tr>\n",
       "     <td>C</td>      <td>D</td>     <td>12.75</td>  <td>0.5047</td> <td>-11.5401</td> <td>37.0401</td>  <td>False</td>\n",
       "</tr>\n",
       "</table>"
      ],
      "text/plain": [
       "<class 'statsmodels.iolib.table.SimpleTable'>"
      ]
     },
     "execution_count": 7,
     "metadata": {},
     "output_type": "execute_result"
    }
   ],
   "source": [
    "from statsmodels.sandbox.stats.multicomp import MultiComparison\n",
    "from statsmodels.stats.multicomp import pairwise_tukeyhsd\n",
    "\n",
    "comp = MultiComparison(data2.SCORE, data2.CLASS)\n",
    "\n",
    "\n",
    "# Bonferroni\n",
    "opt = comp.allpairtest(spt.ttest_ind, method='bonf')\n",
    "print(opt[0])\n",
    "\n",
    "# Tukey's HSD\n",
    "hsd = pairwise_tukeyhsd(data2['SCORE'], data2['CLASS'], alpha=0.05)\n",
    "hsd.summary()"
   ]
  },
  {
   "cell_type": "code",
   "execution_count": 9,
   "id": "b50001dd",
   "metadata": {},
   "outputs": [
    {
     "data": {
      "text/html": [
       "<div>\n",
       "<style scoped>\n",
       "    .dataframe tbody tr th:only-of-type {\n",
       "        vertical-align: middle;\n",
       "    }\n",
       "\n",
       "    .dataframe tbody tr th {\n",
       "        vertical-align: top;\n",
       "    }\n",
       "\n",
       "    .dataframe thead th {\n",
       "        text-align: right;\n",
       "    }\n",
       "</style>\n",
       "<table border=\"1\" class=\"dataframe\">\n",
       "  <thead>\n",
       "    <tr style=\"text-align: right;\">\n",
       "      <th></th>\n",
       "      <th>df</th>\n",
       "      <th>sum_sq</th>\n",
       "      <th>mean_sq</th>\n",
       "      <th>F</th>\n",
       "      <th>PR(&gt;F)</th>\n",
       "    </tr>\n",
       "  </thead>\n",
       "  <tbody>\n",
       "    <tr>\n",
       "      <th>C(fuel)</th>\n",
       "      <td>3.0</td>\n",
       "      <td>365.571250</td>\n",
       "      <td>121.857083</td>\n",
       "      <td>3.274005</td>\n",
       "      <td>0.058846</td>\n",
       "    </tr>\n",
       "    <tr>\n",
       "      <th>C(pad)</th>\n",
       "      <td>2.0</td>\n",
       "      <td>282.253333</td>\n",
       "      <td>141.126667</td>\n",
       "      <td>3.791732</td>\n",
       "      <td>0.052936</td>\n",
       "    </tr>\n",
       "    <tr>\n",
       "      <th>C(fuel):C(pad)</th>\n",
       "      <td>6.0</td>\n",
       "      <td>259.010000</td>\n",
       "      <td>43.168333</td>\n",
       "      <td>1.159828</td>\n",
       "      <td>0.387823</td>\n",
       "    </tr>\n",
       "    <tr>\n",
       "      <th>Residual</th>\n",
       "      <td>12.0</td>\n",
       "      <td>446.635000</td>\n",
       "      <td>37.219583</td>\n",
       "      <td>NaN</td>\n",
       "      <td>NaN</td>\n",
       "    </tr>\n",
       "  </tbody>\n",
       "</table>\n",
       "</div>"
      ],
      "text/plain": [
       "                  df      sum_sq     mean_sq         F    PR(>F)\n",
       "C(fuel)          3.0  365.571250  121.857083  3.274005  0.058846\n",
       "C(pad)           2.0  282.253333  141.126667  3.791732  0.052936\n",
       "C(fuel):C(pad)   6.0  259.010000   43.168333  1.159828  0.387823\n",
       "Residual        12.0  446.635000   37.219583       NaN       NaN"
      ]
     },
     "execution_count": 9,
     "metadata": {},
     "output_type": "execute_result"
    }
   ],
   "source": [
    "data1=pd.read_csv('data_miles.csv',dtype={'fuel':'object'})\n",
    "\n",
    "model1=ols('miles ~ C(fuel)*C(pad)',data=data1).fit()\n",
    "anova_lm(model1)"
   ]
  },
  {
   "cell_type": "code",
   "execution_count": 10,
   "id": "8e79b764",
   "metadata": {},
   "outputs": [
    {
     "data": {
      "text/html": [
       "<div>\n",
       "<style scoped>\n",
       "    .dataframe tbody tr th:only-of-type {\n",
       "        vertical-align: middle;\n",
       "    }\n",
       "\n",
       "    .dataframe tbody tr th {\n",
       "        vertical-align: top;\n",
       "    }\n",
       "\n",
       "    .dataframe thead th {\n",
       "        text-align: right;\n",
       "    }\n",
       "</style>\n",
       "<table border=\"1\" class=\"dataframe\">\n",
       "  <thead>\n",
       "    <tr style=\"text-align: right;\">\n",
       "      <th></th>\n",
       "      <th>df</th>\n",
       "      <th>sum_sq</th>\n",
       "      <th>mean_sq</th>\n",
       "      <th>F</th>\n",
       "      <th>PR(&gt;F)</th>\n",
       "    </tr>\n",
       "  </thead>\n",
       "  <tbody>\n",
       "    <tr>\n",
       "      <th>C(fuel)</th>\n",
       "      <td>3.0</td>\n",
       "      <td>365.571250</td>\n",
       "      <td>121.857083</td>\n",
       "      <td>3.108401</td>\n",
       "      <td>0.052386</td>\n",
       "    </tr>\n",
       "    <tr>\n",
       "      <th>C(pad)</th>\n",
       "      <td>2.0</td>\n",
       "      <td>282.253333</td>\n",
       "      <td>141.126667</td>\n",
       "      <td>3.599940</td>\n",
       "      <td>0.048402</td>\n",
       "    </tr>\n",
       "    <tr>\n",
       "      <th>Residual</th>\n",
       "      <td>18.0</td>\n",
       "      <td>705.645000</td>\n",
       "      <td>39.202500</td>\n",
       "      <td>NaN</td>\n",
       "      <td>NaN</td>\n",
       "    </tr>\n",
       "  </tbody>\n",
       "</table>\n",
       "</div>"
      ],
      "text/plain": [
       "            df      sum_sq     mean_sq         F    PR(>F)\n",
       "C(fuel)    3.0  365.571250  121.857083  3.108401  0.052386\n",
       "C(pad)     2.0  282.253333  141.126667  3.599940  0.048402\n",
       "Residual  18.0  705.645000   39.202500       NaN       NaN"
      ]
     },
     "execution_count": 10,
     "metadata": {},
     "output_type": "execute_result"
    }
   ],
   "source": [
    "model11=ols('miles ~ C(fuel)+C(pad)',data=data1).fit()\n",
    "anova_lm(model11)"
   ]
  },
  {
   "cell_type": "code",
   "execution_count": 11,
   "id": "339cc716",
   "metadata": {},
   "outputs": [
    {
     "name": "stdout",
     "output_type": "stream",
     "text": [
      "Test Multiple Comparison ttest_ind \n",
      "FWER=0.05 method=bonf\n",
      "alphacSidak=0.02, alphacBonf=0.017\n",
      "=============================================\n",
      "group1 group2   stat   pval  pval_corr reject\n",
      "---------------------------------------------\n",
      "     X      Y  1.1951 0.2519    0.7557  False\n",
      "     X      Z -1.1546 0.2676    0.8028  False\n",
      "     Y      Z -2.3579 0.0335    0.1004  False\n",
      "---------------------------------------------\n"
     ]
    },
    {
     "data": {
      "text/html": [
       "<table class=\"simpletable\">\n",
       "<caption>Multiple Comparison of Means - Tukey HSD, FWER=0.05</caption>\n",
       "<tr>\n",
       "  <th>group1</th> <th>group2</th> <th>meandiff</th>  <th>p-adj</th>   <th>lower</th>   <th>upper</th>  <th>reject</th>\n",
       "</tr>\n",
       "<tr>\n",
       "     <td>X</td>      <td>Y</td>     <td>-4.25</td>  <td>0.4735</td> <td>-13.2487</td> <td>4.7487</td>   <td>False</td>\n",
       "</tr>\n",
       "<tr>\n",
       "     <td>X</td>      <td>Z</td>     <td>4.15</td>   <td>0.4894</td>  <td>-4.8487</td> <td>13.1487</td>  <td>False</td>\n",
       "</tr>\n",
       "<tr>\n",
       "     <td>Y</td>      <td>Z</td>      <td>8.4</td>   <td>0.0702</td>  <td>-0.5987</td> <td>17.3987</td>  <td>False</td>\n",
       "</tr>\n",
       "</table>"
      ],
      "text/plain": [
       "<class 'statsmodels.iolib.table.SimpleTable'>"
      ]
     },
     "execution_count": 11,
     "metadata": {},
     "output_type": "execute_result"
    }
   ],
   "source": [
    "comp2 = MultiComparison(data1['miles'], data1['pad'])\n",
    "\n",
    "\n",
    "# Bonferroni\n",
    "opt2 = comp2.allpairtest(spt.ttest_ind, method='bonf')\n",
    "print(opt2[0])\n",
    "\n",
    "# Tukey's HSD\n",
    "hsd2 = pairwise_tukeyhsd(data1['miles'], data1['pad'], alpha=0.05)\n",
    "hsd2.summary()"
   ]
  },
  {
   "cell_type": "code",
   "execution_count": null,
   "id": "6777a8b1",
   "metadata": {},
   "outputs": [],
   "source": []
  }
 ],
 "metadata": {
  "kernelspec": {
   "display_name": "Python 3",
   "language": "python",
   "name": "python3"
  },
  "language_info": {
   "codemirror_mode": {
    "name": "ipython",
    "version": 3
   },
   "file_extension": ".py",
   "mimetype": "text/x-python",
   "name": "python",
   "nbconvert_exporter": "python",
   "pygments_lexer": "ipython3",
   "version": "3.8.8"
  },
  "toc": {
   "base_numbering": 1,
   "nav_menu": {},
   "number_sections": true,
   "sideBar": true,
   "skip_h1_title": false,
   "title_cell": "Table of Contents",
   "title_sidebar": "Contents",
   "toc_cell": false,
   "toc_position": {},
   "toc_section_display": true,
   "toc_window_display": false
  },
  "varInspector": {
   "cols": {
    "lenName": 16,
    "lenType": 16,
    "lenVar": 40
   },
   "kernels_config": {
    "python": {
     "delete_cmd_postfix": "",
     "delete_cmd_prefix": "del ",
     "library": "var_list.py",
     "varRefreshCmd": "print(var_dic_list())"
    },
    "r": {
     "delete_cmd_postfix": ") ",
     "delete_cmd_prefix": "rm(",
     "library": "var_list.r",
     "varRefreshCmd": "cat(var_dic_list()) "
    }
   },
   "types_to_exclude": [
    "module",
    "function",
    "builtin_function_or_method",
    "instance",
    "_Feature"
   ],
   "window_display": false
  }
 },
 "nbformat": 4,
 "nbformat_minor": 5
}
