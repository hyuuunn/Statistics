{
 "cells": [
  {
   "cell_type": "code",
   "execution_count": 1,
   "id": "5476dc1d",
   "metadata": {},
   "outputs": [],
   "source": [
    "from sklearn import datasets\n",
    "from sklearn.preprocessing import PolynomialFeatures # 다항식 회귀 tool\n",
    "from sklearn.model_selection import train_test_split # 데이터 분할\n",
    "from sklearn.linear_model import LinearRegression  # 선형 회귀\n",
    "from sklearn.linear_model import LogisticRegression # 로지스틱 회귀\n",
    "from sklearn.metrics import mean_squared_error\n",
    "import pandas as pd"
   ]
  },
  {
   "cell_type": "code",
   "execution_count": 2,
   "id": "036e4714",
   "metadata": {},
   "outputs": [
    {
     "name": "stdout",
     "output_type": "stream",
     "text": [
      ".. _boston_dataset:\n",
      "\n",
      "Boston house prices dataset\n",
      "---------------------------\n",
      "\n",
      "**Data Set Characteristics:**  \n",
      "\n",
      "    :Number of Instances: 506 \n",
      "\n",
      "    :Number of Attributes: 13 numeric/categorical predictive. Median Value (attribute 14) is usually the target.\n",
      "\n",
      "    :Attribute Information (in order):\n",
      "        - CRIM     per capita crime rate by town\n",
      "        - ZN       proportion of residential land zoned for lots over 25,000 sq.ft.\n",
      "        - INDUS    proportion of non-retail business acres per town\n",
      "        - CHAS     Charles River dummy variable (= 1 if tract bounds river; 0 otherwise)\n",
      "        - NOX      nitric oxides concentration (parts per 10 million)\n",
      "        - RM       average number of rooms per dwelling\n",
      "        - AGE      proportion of owner-occupied units built prior to 1940\n",
      "        - DIS      weighted distances to five Boston employment centres\n",
      "        - RAD      index of accessibility to radial highways\n",
      "        - TAX      full-value property-tax rate per $10,000\n",
      "        - PTRATIO  pupil-teacher ratio by town\n",
      "        - B        1000(Bk - 0.63)^2 where Bk is the proportion of blacks by town\n",
      "        - LSTAT    % lower status of the population\n",
      "        - MEDV     Median value of owner-occupied homes in $1000's\n",
      "\n",
      "    :Missing Attribute Values: None\n",
      "\n",
      "    :Creator: Harrison, D. and Rubinfeld, D.L.\n",
      "\n",
      "This is a copy of UCI ML housing dataset.\n",
      "https://archive.ics.uci.edu/ml/machine-learning-databases/housing/\n",
      "\n",
      "\n",
      "This dataset was taken from the StatLib library which is maintained at Carnegie Mellon University.\n",
      "\n",
      "The Boston house-price data of Harrison, D. and Rubinfeld, D.L. 'Hedonic\n",
      "prices and the demand for clean air', J. Environ. Economics & Management,\n",
      "vol.5, 81-102, 1978.   Used in Belsley, Kuh & Welsch, 'Regression diagnostics\n",
      "...', Wiley, 1980.   N.B. Various transformations are used in the table on\n",
      "pages 244-261 of the latter.\n",
      "\n",
      "The Boston house-price data has been used in many machine learning papers that address regression\n",
      "problems.   \n",
      "     \n",
      ".. topic:: References\n",
      "\n",
      "   - Belsley, Kuh & Welsch, 'Regression diagnostics: Identifying Influential Data and Sources of Collinearity', Wiley, 1980. 244-261.\n",
      "   - Quinlan,R. (1993). Combining Instance-Based and Model-Based Learning. In Proceedings on the Tenth International Conference of Machine Learning, 236-243, University of Massachusetts, Amherst. Morgan Kaufmann.\n",
      "\n",
      "(506, 13)\n"
     ]
    }
   ],
   "source": [
    "boston_dataset = datasets.load_boston()\n",
    "print(boston_dataset.DESCR)\n",
    "print(boston_dataset.data.shape)\n"
   ]
  },
  {
   "cell_type": "code",
   "execution_count": 3,
   "id": "23f51626",
   "metadata": {},
   "outputs": [
    {
     "name": "stdout",
     "output_type": "stream",
     "text": [
      "['CRIM' 'ZN' 'INDUS' 'CHAS' 'NOX' 'RM' 'AGE' 'DIS' 'RAD' 'TAX' 'PTRATIO'\n",
      " 'B' 'LSTAT']\n"
     ]
    }
   ],
   "source": [
    "print(boston_dataset.feature_names)"
   ]
  },
  {
   "cell_type": "code",
   "execution_count": 10,
   "id": "f1e7ae44",
   "metadata": {},
   "outputs": [
    {
     "name": "stdout",
     "output_type": "stream",
     "text": [
      "        CRIM    ZN  INDUS  CHAS    NOX     RM   AGE     DIS  RAD    TAX  \\\n",
      "0    0.00632  18.0   2.31   0.0  0.538  6.575  65.2  4.0900  1.0  296.0   \n",
      "1    0.02731   0.0   7.07   0.0  0.469  6.421  78.9  4.9671  2.0  242.0   \n",
      "2    0.02729   0.0   7.07   0.0  0.469  7.185  61.1  4.9671  2.0  242.0   \n",
      "3    0.03237   0.0   2.18   0.0  0.458  6.998  45.8  6.0622  3.0  222.0   \n",
      "4    0.06905   0.0   2.18   0.0  0.458  7.147  54.2  6.0622  3.0  222.0   \n",
      "..       ...   ...    ...   ...    ...    ...   ...     ...  ...    ...   \n",
      "501  0.06263   0.0  11.93   0.0  0.573  6.593  69.1  2.4786  1.0  273.0   \n",
      "502  0.04527   0.0  11.93   0.0  0.573  6.120  76.7  2.2875  1.0  273.0   \n",
      "503  0.06076   0.0  11.93   0.0  0.573  6.976  91.0  2.1675  1.0  273.0   \n",
      "504  0.10959   0.0  11.93   0.0  0.573  6.794  89.3  2.3889  1.0  273.0   \n",
      "505  0.04741   0.0  11.93   0.0  0.573  6.030  80.8  2.5050  1.0  273.0   \n",
      "\n",
      "     PTRATIO       B  LSTAT  \n",
      "0       15.3  396.90   4.98  \n",
      "1       17.8  396.90   9.14  \n",
      "2       17.8  392.83   4.03  \n",
      "3       18.7  394.63   2.94  \n",
      "4       18.7  396.90   5.33  \n",
      "..       ...     ...    ...  \n",
      "501     21.0  391.99   9.67  \n",
      "502     21.0  396.90   9.08  \n",
      "503     21.0  396.90   5.64  \n",
      "504     21.0  393.45   6.48  \n",
      "505     21.0  396.90   7.88  \n",
      "\n",
      "[506 rows x 13 columns]\n"
     ]
    }
   ],
   "source": [
    "x = pd.DataFrame(boston_dataset.data, columns=boston_dataset.feature_names)\n",
    "print(x)"
   ]
  },
  {
   "cell_type": "markdown",
   "id": "3ebbb979",
   "metadata": {},
   "source": [
    "**단순회귀분석**"
   ]
  },
  {
   "cell_type": "code",
   "execution_count": 5,
   "id": "711e7407",
   "metadata": {},
   "outputs": [
    {
     "name": "stdout",
     "output_type": "stream",
     "text": [
      "       NOX\n",
      "0    0.538\n",
      "1    0.469\n",
      "2    0.469\n",
      "3    0.458\n",
      "4    0.458\n",
      "..     ...\n",
      "501  0.573\n",
      "502  0.573\n",
      "503  0.573\n",
      "504  0.573\n",
      "505  0.573\n",
      "\n",
      "[506 rows x 1 columns]\n"
     ]
    }
   ],
   "source": [
    "x = x[['NOX']]\n",
    "print(x)"
   ]
  },
  {
   "cell_type": "code",
   "execution_count": 6,
   "id": "8b2a8326",
   "metadata": {},
   "outputs": [
    {
     "name": "stdout",
     "output_type": "stream",
     "text": [
      "     MEDV\n",
      "0    24.0\n",
      "1    21.6\n",
      "2    34.7\n",
      "3    33.4\n",
      "4    36.2\n",
      "..    ...\n",
      "501  22.4\n",
      "502  20.6\n",
      "503  23.9\n",
      "504  22.0\n",
      "505  11.9\n",
      "\n",
      "[506 rows x 1 columns]\n"
     ]
    }
   ],
   "source": [
    "y = pd.DataFrame(boston_dataset.target, columns=['MEDV'])\n",
    "print(y)"
   ]
  },
  {
   "cell_type": "code",
   "execution_count": 7,
   "id": "26314fab",
   "metadata": {},
   "outputs": [
    {
     "name": "stdout",
     "output_type": "stream",
     "text": [
      "       NOX\n",
      "33   0.538\n",
      "283  0.401\n",
      "418  0.679\n",
      "502  0.573\n",
      "402  0.693\n",
      "..     ...\n",
      "486  0.583\n",
      "189  0.437\n",
      "495  0.585\n",
      "206  0.489\n",
      "355  0.413\n",
      "\n",
      "[404 rows x 1 columns]        NOX\n",
      "226  0.504\n",
      "292  0.411\n",
      "90   0.489\n",
      "373  0.668\n",
      "273  0.464\n",
      "..     ...\n",
      "349  0.429\n",
      "212  0.489\n",
      "156  0.871\n",
      "480  0.532\n",
      "248  0.431\n",
      "\n",
      "[102 rows x 1 columns]      MEDV\n",
      "33   13.1\n",
      "283  50.0\n",
      "418   8.8\n",
      "502  20.6\n",
      "402  12.1\n",
      "..    ...\n",
      "486  19.1\n",
      "189  34.9\n",
      "495  23.1\n",
      "206  24.4\n",
      "355  20.6\n",
      "\n",
      "[404 rows x 1 columns]      MEDV\n",
      "226  37.6\n",
      "292  27.9\n",
      "90   22.6\n",
      "373  13.8\n",
      "273  35.2\n",
      "..    ...\n",
      "349  26.6\n",
      "212  22.4\n",
      "156  13.1\n",
      "480  23.0\n",
      "248  24.5\n",
      "\n",
      "[102 rows x 1 columns]\n"
     ]
    }
   ],
   "source": [
    "x_train, x_test, y_train, y_test = train_test_split(x, y, test_size=0.2, random_state=5)\n",
    "print(x_train, x_test, y_train, y_test)"
   ]
  },
  {
   "cell_type": "code",
   "execution_count": 8,
   "id": "38654732",
   "metadata": {},
   "outputs": [
    {
     "name": "stdout",
     "output_type": "stream",
     "text": [
      "[[24.28982638]\n",
      " [27.5015958 ]\n",
      " [24.8078537 ]\n",
      " [18.62606094]\n",
      " [25.67123258]\n",
      " [18.24617423]\n",
      " [21.90690067]\n",
      " [24.18622091]\n",
      " [22.80481471]\n",
      " [21.66515459]\n",
      " [26.32740053]\n",
      " [23.90993967]\n",
      " [22.90842017]\n",
      " [25.39495134]\n",
      " [25.67123258]\n",
      " [26.43100599]\n",
      " [21.07805695]\n",
      " [11.61542445]\n",
      " [21.49247881]\n",
      " [21.07805695]\n",
      " [20.66363509]\n",
      " [20.14560776]\n",
      " [24.28982638]\n",
      " [22.90842017]\n",
      " [27.88148251]\n",
      " [16.13952977]\n",
      " [24.66971308]\n",
      " [22.80481471]\n",
      " [23.90993967]\n",
      " [27.5015958 ]\n",
      " [21.63061943]\n",
      " [20.66363509]\n",
      " [17.76268206]\n",
      " [17.07197896]\n",
      " [26.74182239]\n",
      " [20.14560776]\n",
      " [24.18622091]\n",
      " [18.24617423]\n",
      " [19.3512992 ]\n",
      " [26.91449816]\n",
      " [17.76268206]\n",
      " [20.14560776]\n",
      " [24.18622091]\n",
      " [17.07197896]\n",
      " [26.60368177]\n",
      " [27.88148251]\n",
      " [17.76268206]\n",
      " [21.63061943]\n",
      " [11.61542445]\n",
      " [20.14560776]\n",
      " [23.73726389]\n",
      " [24.66971308]\n",
      " [26.60368177]\n",
      " [23.1156311 ]\n",
      " [11.61542445]\n",
      " [27.53613096]\n",
      " [26.32740053]\n",
      " [17.07197896]\n",
      " [26.60368177]\n",
      " [26.53461146]\n",
      " [21.49247881]\n",
      " [24.08261545]\n",
      " [20.14560776]\n",
      " [20.80177571]\n",
      " [15.10347512]\n",
      " [17.76268206]\n",
      " [23.1156311 ]\n",
      " [26.22379506]\n",
      " [27.43252549]\n",
      " [21.56154912]\n",
      " [20.49095931]\n",
      " [22.90842017]\n",
      " [26.22379506]\n",
      " [21.07805695]\n",
      " [18.93687733]\n",
      " [27.53613096]\n",
      " [20.80177571]\n",
      " [11.61542445]\n",
      " [19.3512992 ]\n",
      " [16.89930318]\n",
      " [23.32284203]\n",
      " [20.80177571]\n",
      " [24.18622091]\n",
      " [17.07197896]\n",
      " [27.95055282]\n",
      " [17.07197896]\n",
      " [21.49247881]\n",
      " [17.52093597]\n",
      " [26.60368177]\n",
      " [27.5015958 ]\n",
      " [24.84238886]\n",
      " [23.1156311 ]\n",
      " [20.49095931]\n",
      " [16.13952977]\n",
      " [25.8093732 ]\n",
      " [26.53461146]\n",
      " [20.14560776]\n",
      " [26.87996301]\n",
      " [24.8078537 ]\n",
      " [11.61542445]\n",
      " [23.32284203]\n",
      " [26.8108927 ]]\n"
     ]
    }
   ],
   "source": [
    "model = LinearRegression()\n",
    "model.fit(x_train, y_train)\n",
    "y_test_prediction = model.predict(x_test)\n",
    "print(y_test_prediction)"
   ]
  },
  {
   "cell_type": "markdown",
   "id": "b1bb43c4",
   "metadata": {},
   "source": [
    "**다중회귀분석**"
   ]
  },
  {
   "cell_type": "code",
   "execution_count": 11,
   "id": "f70c687b",
   "metadata": {},
   "outputs": [
    {
     "name": "stdout",
     "output_type": "stream",
     "text": [
      "       NOX   AGE\n",
      "0    0.538  65.2\n",
      "1    0.469  78.9\n",
      "2    0.469  61.1\n",
      "3    0.458  45.8\n",
      "4    0.458  54.2\n",
      "..     ...   ...\n",
      "501  0.573  69.1\n",
      "502  0.573  76.7\n",
      "503  0.573  91.0\n",
      "504  0.573  89.3\n",
      "505  0.573  80.8\n",
      "\n",
      "[506 rows x 2 columns]\n"
     ]
    }
   ],
   "source": [
    "x = x[['NOX','AGE']]\n",
    "print(x)"
   ]
  },
  {
   "cell_type": "code",
   "execution_count": 12,
   "id": "91a5a6f2",
   "metadata": {},
   "outputs": [
    {
     "name": "stdout",
     "output_type": "stream",
     "text": [
      "[[-25.89408203  -0.04866708]]\n",
      "[40.22513315]\n"
     ]
    }
   ],
   "source": [
    "x_train, x_test, y_train, y_test = train_test_split(x, y, test_size=0.2, random_state=5)\n",
    "model = LinearRegression()\n",
    "model.fit(x_train, y_train)\n",
    "print(model.coef_)\n",
    "print(model.intercept_)"
   ]
  },
  {
   "cell_type": "code",
   "execution_count": 13,
   "id": "9974d49e",
   "metadata": {},
   "outputs": [
    {
     "name": "stdout",
     "output_type": "stream",
     "text": [
      "[[22.96481372]\n",
      " [28.44385585]\n",
      " [24.3460333 ]\n",
      " [18.06117874]\n",
      " [25.68932454]\n",
      " [18.30681497]\n",
      " [20.95912022]\n",
      " [23.860473  ]\n",
      " [22.08983687]\n",
      " [21.55653486]\n",
      " [25.66057439]\n",
      " [24.68019565]\n",
      " [22.40598778]\n",
      " [26.0029096 ]\n",
      " [25.35352172]\n",
      " [26.23466081]\n",
      " [19.89965856]\n",
      " [12.80468009]\n",
      " [21.52926531]\n",
      " [19.89965856]\n",
      " [19.68626373]\n",
      " [19.30271921]\n",
      " [23.36388374]\n",
      " [22.86832501]\n",
      " [28.85522515]\n",
      " [16.36227289]\n",
      " [24.81672847]\n",
      " [22.53270726]\n",
      " [25.0354653 ]\n",
      " [27.8355174 ]\n",
      " [20.4599651 ]\n",
      " [19.67166361]\n",
      " [17.67176219]\n",
      " [16.930012  ]\n",
      " [28.11752143]\n",
      " [19.31245262]\n",
      " [23.37380223]\n",
      " [18.00021239]\n",
      " [19.01862461]\n",
      " [28.37352624]\n",
      " [17.77396305]\n",
      " [19.20051835]\n",
      " [23.16453381]\n",
      " [17.48481667]\n",
      " [26.42739842]\n",
      " [27.56068093]\n",
      " [17.41382669]\n",
      " [20.65950012]\n",
      " [12.93608119]\n",
      " [19.51198764]\n",
      " [22.61377561]\n",
      " [25.33259948]\n",
      " [26.71940087]\n",
      " [21.57827734]\n",
      " [12.8776807 ]\n",
      " [27.8711449 ]\n",
      " [26.90645153]\n",
      " [17.55295058]\n",
      " [27.39587323]\n",
      " [26.63354576]\n",
      " [21.19832919]\n",
      " [24.72206532]\n",
      " [19.39518665]\n",
      " [19.81904031]\n",
      " [16.22785584]\n",
      " [17.60849499]\n",
      " [21.69994503]\n",
      " [28.3082484 ]\n",
      " [28.67920344]\n",
      " [22.53979487]\n",
      " [19.77092846]\n",
      " [23.5691309 ]\n",
      " [25.60722568]\n",
      " [19.89965856]\n",
      " [18.29422548]\n",
      " [27.85167807]\n",
      " [19.95530812]\n",
      " [13.05288218]\n",
      " [18.87262338]\n",
      " [16.9952099 ]\n",
      " [22.0353777 ]\n",
      " [19.98937507]\n",
      " [22.65352951]\n",
      " [17.13928043]\n",
      " [28.40574243]\n",
      " [16.97867908]\n",
      " [21.50006506]\n",
      " [17.37856934]\n",
      " [26.08672888]\n",
      " [28.68232452]\n",
      " [24.98026584]\n",
      " [21.95301383]\n",
      " [20.04346408]\n",
      " [16.19680483]\n",
      " [27.4767817 ]\n",
      " [27.83075583]\n",
      " [19.27838567]\n",
      " [27.43755783]\n",
      " [24.94463834]\n",
      " [13.09668254]\n",
      " [23.30072168]\n",
      " [26.67523035]]\n",
      "8.002614894952881\n"
     ]
    }
   ],
   "source": [
    "y_test_prediction = model.predict(x_test)\n",
    "print(y_test_prediction)\n",
    "print(mean_squared_error(y_test, y_test_prediction)**0.5)"
   ]
  },
  {
   "cell_type": "markdown",
   "id": "e17bfc8b",
   "metadata": {},
   "source": [
    "**다항회귀분석**"
   ]
  },
  {
   "cell_type": "code",
   "execution_count": 14,
   "id": "a8ab46fb",
   "metadata": {},
   "outputs": [
    {
     "name": "stdout",
     "output_type": "stream",
     "text": [
      "(506, 105)\n"
     ]
    }
   ],
   "source": [
    "# 2항. 10항 -> (10)\n",
    "polynomial_transformer = PolynomialFeatures(2)\n",
    "polynomial_data = polynomial_transformer.fit_transform(boston_dataset.data)\n",
    "print(polynomial_data.shape)"
   ]
  },
  {
   "cell_type": "code",
   "execution_count": 15,
   "id": "043b8306",
   "metadata": {},
   "outputs": [
    {
     "name": "stdout",
     "output_type": "stream",
     "text": [
      "['1', 'CRIM', 'ZN', 'INDUS', 'CHAS', 'NOX', 'RM', 'AGE', 'DIS', 'RAD', 'TAX', 'PTRATIO', 'B', 'LSTAT', 'CRIM^2', 'CRIM ZN', 'CRIM INDUS', 'CRIM CHAS', 'CRIM NOX', 'CRIM RM', 'CRIM AGE', 'CRIM DIS', 'CRIM RAD', 'CRIM TAX', 'CRIM PTRATIO', 'CRIM B', 'CRIM LSTAT', 'ZN^2', 'ZN INDUS', 'ZN CHAS', 'ZN NOX', 'ZN RM', 'ZN AGE', 'ZN DIS', 'ZN RAD', 'ZN TAX', 'ZN PTRATIO', 'ZN B', 'ZN LSTAT', 'INDUS^2', 'INDUS CHAS', 'INDUS NOX', 'INDUS RM', 'INDUS AGE', 'INDUS DIS', 'INDUS RAD', 'INDUS TAX', 'INDUS PTRATIO', 'INDUS B', 'INDUS LSTAT', 'CHAS^2', 'CHAS NOX', 'CHAS RM', 'CHAS AGE', 'CHAS DIS', 'CHAS RAD', 'CHAS TAX', 'CHAS PTRATIO', 'CHAS B', 'CHAS LSTAT', 'NOX^2', 'NOX RM', 'NOX AGE', 'NOX DIS', 'NOX RAD', 'NOX TAX', 'NOX PTRATIO', 'NOX B', 'NOX LSTAT', 'RM^2', 'RM AGE', 'RM DIS', 'RM RAD', 'RM TAX', 'RM PTRATIO', 'RM B', 'RM LSTAT', 'AGE^2', 'AGE DIS', 'AGE RAD', 'AGE TAX', 'AGE PTRATIO', 'AGE B', 'AGE LSTAT', 'DIS^2', 'DIS RAD', 'DIS TAX', 'DIS PTRATIO', 'DIS B', 'DIS LSTAT', 'RAD^2', 'RAD TAX', 'RAD PTRATIO', 'RAD B', 'RAD LSTAT', 'TAX^2', 'TAX PTRATIO', 'TAX B', 'TAX LSTAT', 'PTRATIO^2', 'PTRATIO B', 'PTRATIO LSTAT', 'B^2', 'B LSTAT', 'LSTAT^2']\n"
     ]
    }
   ],
   "source": [
    "polynomial_feature_names = polynomial_transformer.get_feature_names(boston_dataset.feature_names)\n",
    "print(polynomial_feature_names)\n"
   ]
  },
  {
   "cell_type": "code",
   "execution_count": 16,
   "id": "66268cf6",
   "metadata": {},
   "outputs": [
    {
     "name": "stdout",
     "output_type": "stream",
     "text": [
      "       1     CRIM    ZN  INDUS  CHAS    NOX     RM   AGE     DIS  RAD  ...  \\\n",
      "0    1.0  0.00632  18.0   2.31   0.0  0.538  6.575  65.2  4.0900  1.0  ...   \n",
      "1    1.0  0.02731   0.0   7.07   0.0  0.469  6.421  78.9  4.9671  2.0  ...   \n",
      "2    1.0  0.02729   0.0   7.07   0.0  0.469  7.185  61.1  4.9671  2.0  ...   \n",
      "3    1.0  0.03237   0.0   2.18   0.0  0.458  6.998  45.8  6.0622  3.0  ...   \n",
      "4    1.0  0.06905   0.0   2.18   0.0  0.458  7.147  54.2  6.0622  3.0  ...   \n",
      "..   ...      ...   ...    ...   ...    ...    ...   ...     ...  ...  ...   \n",
      "501  1.0  0.06263   0.0  11.93   0.0  0.573  6.593  69.1  2.4786  1.0  ...   \n",
      "502  1.0  0.04527   0.0  11.93   0.0  0.573  6.120  76.7  2.2875  1.0  ...   \n",
      "503  1.0  0.06076   0.0  11.93   0.0  0.573  6.976  91.0  2.1675  1.0  ...   \n",
      "504  1.0  0.10959   0.0  11.93   0.0  0.573  6.794  89.3  2.3889  1.0  ...   \n",
      "505  1.0  0.04741   0.0  11.93   0.0  0.573  6.030  80.8  2.5050  1.0  ...   \n",
      "\n",
      "       TAX^2  TAX PTRATIO      TAX B  TAX LSTAT  PTRATIO^2  PTRATIO B  \\\n",
      "0    87616.0       4528.8  117482.40    1474.08     234.09   6072.570   \n",
      "1    58564.0       4307.6   96049.80    2211.88     316.84   7064.820   \n",
      "2    58564.0       4307.6   95064.86     975.26     316.84   6992.374   \n",
      "3    49284.0       4151.4   87607.86     652.68     349.69   7379.581   \n",
      "4    49284.0       4151.4   88111.80    1183.26     349.69   7422.030   \n",
      "..       ...          ...        ...        ...        ...        ...   \n",
      "501  74529.0       5733.0  107013.27    2639.91     441.00   8231.790   \n",
      "502  74529.0       5733.0  108353.70    2478.84     441.00   8334.900   \n",
      "503  74529.0       5733.0  108353.70    1539.72     441.00   8334.900   \n",
      "504  74529.0       5733.0  107411.85    1769.04     441.00   8262.450   \n",
      "505  74529.0       5733.0  108353.70    2151.24     441.00   8334.900   \n",
      "\n",
      "     PTRATIO LSTAT          B^2    B LSTAT  LSTAT^2  \n",
      "0           76.194  157529.6100  1976.5620  24.8004  \n",
      "1          162.692  157529.6100  3627.6660  83.5396  \n",
      "2           71.734  154315.4089  1583.1049  16.2409  \n",
      "3           54.978  155732.8369  1160.2122   8.6436  \n",
      "4           99.671  157529.6100  2115.4770  28.4089  \n",
      "..             ...          ...        ...      ...  \n",
      "501        203.070  153656.1601  3790.5433  93.5089  \n",
      "502        190.680  157529.6100  3603.8520  82.4464  \n",
      "503        118.440  157529.6100  2238.5160  31.8096  \n",
      "504        136.080  154802.9025  2549.5560  41.9904  \n",
      "505        165.480  157529.6100  3127.5720  62.0944  \n",
      "\n",
      "[506 rows x 105 columns]\n"
     ]
    }
   ],
   "source": [
    "x = pd.DataFrame(polynomial_data, columns = polynomial_feature_names)\n",
    "print(x)"
   ]
  },
  {
   "cell_type": "code",
   "execution_count": 17,
   "id": "dc005491",
   "metadata": {},
   "outputs": [
    {
     "name": "stdout",
     "output_type": "stream",
     "text": [
      "[[42.00919669]\n",
      " [28.22372855]\n",
      " [25.52688254]\n",
      " [ 9.05454749]\n",
      " [33.5903981 ]\n",
      " [10.49656653]\n",
      " [23.0597188 ]\n",
      " [30.35330832]\n",
      " [24.2246103 ]\n",
      " [22.30153137]\n",
      " [33.11791368]\n",
      " [20.74987646]\n",
      " [20.19664018]\n",
      " [32.37012974]\n",
      " [27.35813074]\n",
      " [20.46264672]\n",
      " [13.68533393]\n",
      " [12.51890372]\n",
      " [15.88730519]\n",
      " [12.47719001]\n",
      " [ 3.72827179]\n",
      " [20.49819423]\n",
      " [44.09350121]\n",
      " [23.31624023]\n",
      " [33.2791559 ]\n",
      " [ 9.43400657]\n",
      " [24.71325022]\n",
      " [21.79459245]\n",
      " [24.06481669]\n",
      " [27.42603119]\n",
      " [15.3289399 ]\n",
      " [ 6.80742072]\n",
      " [16.76243454]\n",
      " [13.13446141]\n",
      " [25.10746984]\n",
      " [22.92666538]\n",
      " [29.58310464]\n",
      " [10.66362649]\n",
      " [47.75889196]\n",
      " [35.24353036]\n",
      " [19.90943076]\n",
      " [15.25028015]\n",
      " [28.15702648]\n",
      " [14.02415348]\n",
      " [26.11171521]\n",
      " [28.60093424]\n",
      " [15.67989876]\n",
      " [18.96653866]\n",
      " [20.2094799 ]\n",
      " [14.03412949]\n",
      " [21.76275324]\n",
      " [22.26202924]\n",
      " [22.01832275]\n",
      " [15.44624876]\n",
      " [15.75821427]\n",
      " [26.30451802]\n",
      " [40.97147443]\n",
      " [14.50276205]\n",
      " [29.38387137]\n",
      " [21.7344614 ]\n",
      " [18.72108633]\n",
      " [24.58475299]\n",
      " [14.30971895]\n",
      " [36.2957301 ]\n",
      " [26.41019983]\n",
      " [10.60479846]\n",
      " [16.95708372]\n",
      " [25.40357712]\n",
      " [19.58512193]\n",
      " [23.68506526]\n",
      " [17.25699198]\n",
      " [25.70209368]\n",
      " [19.19027768]\n",
      " [17.10127191]\n",
      " [25.97538909]\n",
      " [35.71667305]\n",
      " [18.64188921]\n",
      " [16.7998696 ]\n",
      " [32.78563689]\n",
      " [18.59741003]\n",
      " [23.8242383 ]\n",
      " [47.50058679]\n",
      " [16.57878219]\n",
      " [15.55546442]\n",
      " [18.9641561 ]\n",
      " [13.33721796]\n",
      " [17.9904616 ]\n",
      " [11.18279003]\n",
      " [18.12553764]\n",
      " [26.27579668]\n",
      " [43.45299777]\n",
      " [16.14481127]\n",
      " [22.71838929]\n",
      " [15.7059831 ]\n",
      " [23.34912323]\n",
      " [27.87151635]\n",
      " [ 6.2340683 ]\n",
      " [28.0283978 ]\n",
      " [23.11806282]\n",
      " [11.24273731]\n",
      " [23.39741429]\n",
      " [21.98207125]]\n"
     ]
    }
   ],
   "source": [
    "x_train, x_test, y_train, y_test = train_test_split(x, y, test_size=0.2, random_state=5)\n",
    "model = LinearRegression()\n",
    "model.fit(x_train, y_train)\n",
    "y_test_prediction = model.predict(x_test)\n",
    "print(y_test_prediction)"
   ]
  },
  {
   "cell_type": "code",
   "execution_count": 18,
   "id": "b08cc239",
   "metadata": {},
   "outputs": [
    {
     "name": "stdout",
     "output_type": "stream",
     "text": [
      "3.196527651079712\n"
     ]
    }
   ],
   "source": [
    "print(mean_squared_error(y_test, y_test_prediction) ** 0.5)"
   ]
  },
  {
   "cell_type": "code",
   "execution_count": 19,
   "id": "6b0d57ac",
   "metadata": {},
   "outputs": [
    {
     "name": "stdout",
     "output_type": "stream",
     "text": [
      "57.87704902724908\n"
     ]
    }
   ],
   "source": [
    "diabetes_dataset = datasets.load_diabetes()\n",
    "\n",
    "polynomial_transformer = PolynomialFeatures(2)\n",
    "polynomial_data = polynomial_transformer.fit_transform(diabetes_dataset.data)\n",
    "polynomial_feature_names = polynomial_transformer.get_feature_names(diabetes_dataset.feature_names)\n",
    "x = pd.DataFrame(polynomial_data, columns = polynomial_feature_names)\n",
    "\n",
    "y = pd.DataFrame(diabetes_dataset.target, columns=['diabetes'])\n",
    "\n",
    "\n",
    "x_train, x_test, y_train, y_test = train_test_split(x, y, test_size=0.2, random_state=5)\n",
    "model = LinearRegression()\n",
    "model.fit(x_train, y_train)\n",
    "y_test_predict = model.predict(x_test)\n",
    "\n",
    "mse = mean_squared_error(y_test, y_test_predict)**0.5\n",
    "print(mse)"
   ]
  },
  {
   "cell_type": "code",
   "execution_count": 20,
   "id": "9faf6760",
   "metadata": {},
   "outputs": [
    {
     "name": "stdout",
     "output_type": "stream",
     "text": [
      ".. _iris_dataset:\n",
      "\n",
      "Iris plants dataset\n",
      "--------------------\n",
      "\n",
      "**Data Set Characteristics:**\n",
      "\n",
      "    :Number of Instances: 150 (50 in each of three classes)\n",
      "    :Number of Attributes: 4 numeric, predictive attributes and the class\n",
      "    :Attribute Information:\n",
      "        - sepal length in cm\n",
      "        - sepal width in cm\n",
      "        - petal length in cm\n",
      "        - petal width in cm\n",
      "        - class:\n",
      "                - Iris-Setosa\n",
      "                - Iris-Versicolour\n",
      "                - Iris-Virginica\n",
      "                \n",
      "    :Summary Statistics:\n",
      "\n",
      "    ============== ==== ==== ======= ===== ====================\n",
      "                    Min  Max   Mean    SD   Class Correlation\n",
      "    ============== ==== ==== ======= ===== ====================\n",
      "    sepal length:   4.3  7.9   5.84   0.83    0.7826\n",
      "    sepal width:    2.0  4.4   3.05   0.43   -0.4194\n",
      "    petal length:   1.0  6.9   3.76   1.76    0.9490  (high!)\n",
      "    petal width:    0.1  2.5   1.20   0.76    0.9565  (high!)\n",
      "    ============== ==== ==== ======= ===== ====================\n",
      "\n",
      "    :Missing Attribute Values: None\n",
      "    :Class Distribution: 33.3% for each of 3 classes.\n",
      "    :Creator: R.A. Fisher\n",
      "    :Donor: Michael Marshall (MARSHALL%PLU@io.arc.nasa.gov)\n",
      "    :Date: July, 1988\n",
      "\n",
      "The famous Iris database, first used by Sir R.A. Fisher. The dataset is taken\n",
      "from Fisher's paper. Note that it's the same as in R, but not as in the UCI\n",
      "Machine Learning Repository, which has two wrong data points.\n",
      "\n",
      "This is perhaps the best known database to be found in the\n",
      "pattern recognition literature.  Fisher's paper is a classic in the field and\n",
      "is referenced frequently to this day.  (See Duda & Hart, for example.)  The\n",
      "data set contains 3 classes of 50 instances each, where each class refers to a\n",
      "type of iris plant.  One class is linearly separable from the other 2; the\n",
      "latter are NOT linearly separable from each other.\n",
      "\n",
      ".. topic:: References\n",
      "\n",
      "   - Fisher, R.A. \"The use of multiple measurements in taxonomic problems\"\n",
      "     Annual Eugenics, 7, Part II, 179-188 (1936); also in \"Contributions to\n",
      "     Mathematical Statistics\" (John Wiley, NY, 1950).\n",
      "   - Duda, R.O., & Hart, P.E. (1973) Pattern Classification and Scene Analysis.\n",
      "     (Q327.D83) John Wiley & Sons.  ISBN 0-471-22361-1.  See page 218.\n",
      "   - Dasarathy, B.V. (1980) \"Nosing Around the Neighborhood: A New System\n",
      "     Structure and Classification Rule for Recognition in Partially Exposed\n",
      "     Environments\".  IEEE Transactions on Pattern Analysis and Machine\n",
      "     Intelligence, Vol. PAMI-2, No. 1, 67-71.\n",
      "   - Gates, G.W. (1972) \"The Reduced Nearest Neighbor Rule\".  IEEE Transactions\n",
      "     on Information Theory, May 1972, 431-433.\n",
      "   - See also: 1988 MLC Proceedings, 54-64.  Cheeseman et al\"s AUTOCLASS II\n",
      "     conceptual clustering system finds 3 classes in the data.\n",
      "   - Many, many more ...\n"
     ]
    }
   ],
   "source": [
    "iris_data = datasets.load_iris()\n",
    "print(iris_data.DESCR)"
   ]
  },
  {
   "cell_type": "code",
   "execution_count": 21,
   "id": "98e76ae3",
   "metadata": {},
   "outputs": [
    {
     "name": "stdout",
     "output_type": "stream",
     "text": [
      "     sepal length (cm)  sepal width (cm)  petal length (cm)  petal width (cm)\n",
      "0                  5.1               3.5                1.4               0.2\n",
      "1                  4.9               3.0                1.4               0.2\n",
      "2                  4.7               3.2                1.3               0.2\n",
      "3                  4.6               3.1                1.5               0.2\n",
      "4                  5.0               3.6                1.4               0.2\n",
      "..                 ...               ...                ...               ...\n",
      "145                6.7               3.0                5.2               2.3\n",
      "146                6.3               2.5                5.0               1.9\n",
      "147                6.5               3.0                5.2               2.0\n",
      "148                6.2               3.4                5.4               2.3\n",
      "149                5.9               3.0                5.1               1.8\n",
      "\n",
      "[150 rows x 4 columns]\n"
     ]
    }
   ],
   "source": [
    "x = pd.DataFrame(iris_data.data, columns=iris_data.feature_names)\n",
    "print(x)"
   ]
  },
  {
   "cell_type": "code",
   "execution_count": 22,
   "id": "ce74e8cf",
   "metadata": {},
   "outputs": [
    {
     "name": "stdout",
     "output_type": "stream",
     "text": [
      "     class\n",
      "0        0\n",
      "1        0\n",
      "2        0\n",
      "3        0\n",
      "4        0\n",
      "..     ...\n",
      "145      2\n",
      "146      2\n",
      "147      2\n",
      "148      2\n",
      "149      2\n",
      "\n",
      "[150 rows x 1 columns]\n"
     ]
    }
   ],
   "source": [
    "y = pd.DataFrame(iris_data.target, columns=['class'])\n",
    "print(y)"
   ]
  },
  {
   "cell_type": "code",
   "execution_count": 23,
   "id": "7805a097",
   "metadata": {},
   "outputs": [],
   "source": [
    "x_train, x_test, y_train, y_test = train_test_split(x, y, test_size=0.2, random_state=5)\n",
    "y_train = y_train.values.ravel()"
   ]
  },
  {
   "cell_type": "code",
   "execution_count": 24,
   "id": "57b8d634",
   "metadata": {},
   "outputs": [
    {
     "name": "stdout",
     "output_type": "stream",
     "text": [
      "[1 2 2 0 2 1 0 2 0 1 1 2 2 2 0 0 2 2 0 0 1 2 0 1 1 2 1 1 1 2]\n",
      "0.9666666666666667\n"
     ]
    }
   ],
   "source": [
    "model = LogisticRegression(solver='saga', max_iter=3500)\n",
    "model.fit(x_train, y_train)\n",
    "print(model.predict(x_test))\n",
    "print(model.score(x_test, y_test))"
   ]
  },
  {
   "cell_type": "code",
   "execution_count": null,
   "id": "3f4534d8",
   "metadata": {},
   "outputs": [],
   "source": []
  }
 ],
 "metadata": {
  "kernelspec": {
   "display_name": "Python 3",
   "language": "python",
   "name": "python3"
  },
  "language_info": {
   "codemirror_mode": {
    "name": "ipython",
    "version": 3
   },
   "file_extension": ".py",
   "mimetype": "text/x-python",
   "name": "python",
   "nbconvert_exporter": "python",
   "pygments_lexer": "ipython3",
   "version": "3.8.8"
  },
  "toc": {
   "base_numbering": 1,
   "nav_menu": {},
   "number_sections": true,
   "sideBar": true,
   "skip_h1_title": false,
   "title_cell": "Table of Contents",
   "title_sidebar": "Contents",
   "toc_cell": false,
   "toc_position": {},
   "toc_section_display": true,
   "toc_window_display": false
  },
  "varInspector": {
   "cols": {
    "lenName": 16,
    "lenType": 16,
    "lenVar": 40
   },
   "kernels_config": {
    "python": {
     "delete_cmd_postfix": "",
     "delete_cmd_prefix": "del ",
     "library": "var_list.py",
     "varRefreshCmd": "print(var_dic_list())"
    },
    "r": {
     "delete_cmd_postfix": ") ",
     "delete_cmd_prefix": "rm(",
     "library": "var_list.r",
     "varRefreshCmd": "cat(var_dic_list()) "
    }
   },
   "types_to_exclude": [
    "module",
    "function",
    "builtin_function_or_method",
    "instance",
    "_Feature"
   ],
   "window_display": false
  }
 },
 "nbformat": 4,
 "nbformat_minor": 5
}
