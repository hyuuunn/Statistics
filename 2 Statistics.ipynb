{
 "cells": [
  {
   "cell_type": "code",
   "execution_count": 2,
   "id": "335e63a9",
   "metadata": {},
   "outputs": [],
   "source": [
    "import pandas as pd\n",
    "from sklearn.datasets import load_boston\n",
    "from sklearn.model_selection import train_test_split\n",
    "import statsmodels.api as sm \n",
    "\n",
    "import scipy.stats as spt\n",
    "import numpy as np\n",
    "\n",
    "import matplotlib.pyplot as plt"
   ]
  },
  {
   "cell_type": "code",
   "execution_count": 3,
   "id": "c598a976",
   "metadata": {},
   "outputs": [
    {
     "ename": "ModuleNotFoundError",
     "evalue": "No module named 'rpy2'",
     "output_type": "error",
     "traceback": [
      "\u001b[0;31m---------------------------------------------------------------------------\u001b[0m",
      "\u001b[0;31mModuleNotFoundError\u001b[0m                       Traceback (most recent call last)",
      "\u001b[0;32m<ipython-input-3-6a8cc3cb647b>\u001b[0m in \u001b[0;36m<module>\u001b[0;34m\u001b[0m\n\u001b[1;32m      1\u001b[0m \u001b[0;31m# 단일 모집단 검정\u001b[0m\u001b[0;34m\u001b[0m\u001b[0;34m\u001b[0m\u001b[0;34m\u001b[0m\u001b[0m\n\u001b[0;32m----> 2\u001b[0;31m \u001b[0;32mimport\u001b[0m \u001b[0mrpy2\u001b[0m\u001b[0;34m.\u001b[0m\u001b[0mrobjects\u001b[0m \u001b[0;32mas\u001b[0m \u001b[0mrobjs\u001b[0m\u001b[0;34m\u001b[0m\u001b[0;34m\u001b[0m\u001b[0m\n\u001b[0m\u001b[1;32m      3\u001b[0m \u001b[0;34m\u001b[0m\u001b[0m\n\u001b[1;32m      4\u001b[0m \u001b[0mrng\u001b[0m \u001b[0;34m=\u001b[0m \u001b[0mnp\u001b[0m\u001b[0;34m.\u001b[0m\u001b[0mrandom\u001b[0m\u001b[0;34m.\u001b[0m\u001b[0mdefault_rng\u001b[0m\u001b[0;34m(\u001b[0m\u001b[0;34m)\u001b[0m\u001b[0;34m\u001b[0m\u001b[0;34m\u001b[0m\u001b[0m\n\u001b[1;32m      5\u001b[0m \u001b[0mrvs\u001b[0m \u001b[0;34m=\u001b[0m \u001b[0mspt\u001b[0m\u001b[0;34m.\u001b[0m\u001b[0mnorm\u001b[0m\u001b[0;34m.\u001b[0m\u001b[0mrvs\u001b[0m\u001b[0;34m(\u001b[0m\u001b[0mloc\u001b[0m\u001b[0;34m=\u001b[0m\u001b[0;36m5\u001b[0m\u001b[0;34m,\u001b[0m \u001b[0mscale\u001b[0m\u001b[0;34m=\u001b[0m\u001b[0;36m10\u001b[0m\u001b[0;34m,\u001b[0m \u001b[0msize\u001b[0m\u001b[0;34m=\u001b[0m\u001b[0;34m(\u001b[0m\u001b[0;36m50\u001b[0m\u001b[0;34m,\u001b[0m \u001b[0;36m1\u001b[0m\u001b[0;34m)\u001b[0m\u001b[0;34m,\u001b[0m \u001b[0mrandom_state\u001b[0m\u001b[0;34m=\u001b[0m\u001b[0mrng\u001b[0m\u001b[0;34m)\u001b[0m\u001b[0;34m\u001b[0m\u001b[0;34m\u001b[0m\u001b[0m\n",
      "\u001b[0;31mModuleNotFoundError\u001b[0m: No module named 'rpy2'"
     ]
    }
   ],
   "source": [
    "# 단일 모집단 검정\n",
    "import rpy2.robjects as robjs\n",
    "\n",
    "rng = np.random.default_rng()\n",
    "rvs = spt.norm.rvs(loc=5, scale=10, size=(50, 1), random_state=rng)\n",
    "ss=spt.ttest_1samp(rvs, 5.0)\n",
    "print(ss)\n",
    "print(spt.ttest_1samp(rvs, 0.0))\n",
    "\n",
    "robjs.r['load'](\"class3.RData\")\n",
    "ex1=robjs.r['exa10_9']\n",
    "\n",
    "tt=spt.ttest_1samp(ex1,np.mean(ex1))"
   ]
  },
  {
   "cell_type": "code",
   "execution_count": 4,
   "id": "e74168bf",
   "metadata": {},
   "outputs": [
    {
     "name": "stdout",
     "output_type": "stream",
     "text": [
      "Power_divergenceResult(statistic=2.0, pvalue=0.8491450360846096)\n",
      "Power_divergenceResult(statistic=3.5, pvalue=0.6233876277495822)\n",
      "Power_divergenceResult(statistic=2.0, pvalue=array([0.84914504, 0.73575888, 0.5724067 ]))\n",
      "Power_divergenceResult(statistic=15.7, pvalue=0.007754884452437287)\n"
     ]
    },
    {
     "ename": "NameError",
     "evalue": "name 'robjs' is not defined",
     "output_type": "error",
     "traceback": [
      "\u001b[0;31m---------------------------------------------------------------------------\u001b[0m",
      "\u001b[0;31mNameError\u001b[0m                                 Traceback (most recent call last)",
      "\u001b[0;32m<ipython-input-4-899b0c60e573>\u001b[0m in \u001b[0;36m<module>\u001b[0;34m\u001b[0m\n\u001b[1;32m     12\u001b[0m \u001b[0;31m# 교차분석\u001b[0m\u001b[0;34m\u001b[0m\u001b[0;34m\u001b[0m\u001b[0;34m\u001b[0m\u001b[0m\n\u001b[1;32m     13\u001b[0m \u001b[0;34m\u001b[0m\u001b[0m\n\u001b[0;32m---> 14\u001b[0;31m \u001b[0mss\u001b[0m\u001b[0;34m=\u001b[0m\u001b[0mrobjs\u001b[0m\u001b[0;34m.\u001b[0m\u001b[0mr\u001b[0m\u001b[0;34m[\u001b[0m\u001b[0;34m'exa12_5'\u001b[0m\u001b[0;34m]\u001b[0m\u001b[0;34m\u001b[0m\u001b[0;34m\u001b[0m\u001b[0m\n\u001b[0m\u001b[1;32m     15\u001b[0m \u001b[0mprint\u001b[0m\u001b[0;34m(\u001b[0m\u001b[0mss\u001b[0m\u001b[0;34m)\u001b[0m\u001b[0;34m\u001b[0m\u001b[0;34m\u001b[0m\u001b[0m\n\u001b[1;32m     16\u001b[0m \u001b[0;34m\u001b[0m\u001b[0m\n",
      "\u001b[0;31mNameError\u001b[0m: name 'robjs' is not defined"
     ]
    }
   ],
   "source": [
    "# 카이제곱 검정 (적합도)\n",
    "\n",
    "print(spt.chisquare([16, 18, 16, 14, 12, 12]))\n",
    "\n",
    "print(spt.chisquare([16, 18, 16, 14, 12, 12], f_exp=[16, 16, 16, 16, 16, 8]))\n",
    "\n",
    "print(spt.chisquare([16, 18, 16, 14, 12, 12], ddof=[0,1,2]))\n",
    "\n",
    "obs=np.array([31,26,22,18,13,10])\n",
    "print(spt.chisquare(obs))\n",
    "\n",
    "# 교차분석\n",
    "\n",
    "ss=robjs.r['exa12_5']\n",
    "print(ss)\n",
    "\n",
    "ch2,pval,df,evl=spt.chi2_contingency(observed=ss)\n",
    "\n"
   ]
  },
  {
   "cell_type": "code",
   "execution_count": null,
   "id": "f5e5e793",
   "metadata": {},
   "outputs": [],
   "source": [
    "# One way ANOVA\n",
    "\n",
    "np.random.seed(5)\n",
    "\n",
    "grp1=np.random.normal(3,4,30)\n",
    "grp2=np.random.normal(3.1,4.1,30)\n",
    "grp3=np.random.normal(2.84,4.3,30)\n",
    "\n",
    "grp=[grp1,grp2,grp3]\n",
    "\n",
    "import seaborn as sb\n",
    "\n",
    "sb.kdeplot(grp1)\n",
    "sb.kdeplot(grp2)\n",
    "sb.kdeplot(grp3)\n",
    "plt.show()\n",
    "\n",
    "sb.boxplot(data=grp)\n",
    "plt.show()\n",
    "\n",
    "print(spt.f_oneway(grp1,grp2,grp3))\n",
    "F_stat,pval=spt.f_oneway(*grp)\n",
    "\n",
    "ttt=robjs.r['exa13_6']\n",
    "\n",
    "print(spt.f_oneway(ttt[0],ttt[1],ttt[2]))"
   ]
  },
  {
   "cell_type": "code",
   "execution_count": 1,
   "id": "6213cf6d",
   "metadata": {},
   "outputs": [],
   "source": [
    "import scipy.stats as spt\n",
    "import numpy as np\n",
    "import pandas as pd\n",
    "import seaborn as sb\n",
    "import statsmodels.api as sm\n",
    "from statsmodels.formula.api import ols\n",
    "from statsmodels.stats.anova import anova_lm\n",
    "import statsmodels.stats.weightstats as sw\n",
    "import matplotlib.pyplot as plt\n"
   ]
  },
  {
   "cell_type": "code",
   "execution_count": 2,
   "id": "753d72a8",
   "metadata": {},
   "outputs": [
    {
     "name": "stdout",
     "output_type": "stream",
     "text": [
      "Ttest_indResult(statistic=0.41473113113479565, pvalue=0.6870956353065248)\n",
      "t statistic = 0.415, p-value = 0.687\n",
      "1학년 : 3.4166666666666674\n",
      "2학년 : 3.216666666666667\n"
     ]
    }
   ],
   "source": [
    "# Two sample t test\n",
    "\n",
    "fres = np.array([3.7,4.3,2.5,3.3,3.6,3.1])\n",
    "soph = np.array([1.8,4.2,4.1,2.2,3.2,3.8])\n",
    "twosam = spt.ttest_ind(fres,soph)\n",
    "print(twosam)\n",
    "\n",
    "print('t statistic = %.3f, p-value = %.3f'%(twosam))\n",
    "\n",
    "\n",
    "print('1학년 :', np.mean(fres))\n",
    "print('2학년 :', np.mean(soph))"
   ]
  },
  {
   "cell_type": "code",
   "execution_count": 3,
   "id": "85793627",
   "metadata": {},
   "outputs": [
    {
     "name": "stdout",
     "output_type": "stream",
     "text": [
      "0    3.3\n",
      "1    3.7\n",
      "2    3.4\n",
      "3    3.9\n",
      "4    NaN\n",
      "Name: jun, dtype: float64 \n",
      "\n",
      "0    3.300\n",
      "1    3.700\n",
      "2    3.400\n",
      "3    3.900\n",
      "4    3.575\n",
      "Name: jun, dtype: float64 \n",
      "\n",
      "Ttest_indResult(statistic=-0.9550271234200176, pvalue=0.36752757550294646)\n"
     ]
    }
   ],
   "source": [
    "# Dataframe\n",
    "\n",
    "data1=pd.DataFrame(data=np.array([[3.7,1.8,3.3,4.1],[4.3,4.2,3.7,3.8],[2.5,4.1,3.4,3.5],[3.3,2.2,3.9,3.2],[3.6,3.2,np.nan,2.3]]),\n",
    "                   columns=['fre','sop','jun','sen'])\n",
    "print(data1['jun'],'\\n')\n",
    "\n",
    "sop = data1['sop']\n",
    "jun = data1['jun']\n",
    "jun = jun.fillna(jun.mean())\n",
    "\n",
    "print(jun,'\\n')\n",
    "\n",
    "tsam = spt.ttest_ind(sop,jun)\n",
    "print(tsam)"
   ]
  },
  {
   "cell_type": "code",
   "execution_count": 4,
   "id": "281ee12d",
   "metadata": {},
   "outputs": [
    {
     "name": "stdout",
     "output_type": "stream",
     "text": [
      "Ttest_relResult(statistic=3.562626515972126, pvalue=0.002834843356363954)\n"
     ]
    }
   ],
   "source": [
    "# Paired t test\n",
    "\n",
    "before=np.array([68,61,60,68,67,64,66,67,66,67,72,74,61,71,58,77])\n",
    "after=np.array([56,55,67,62,59,67,50,60,59,53,60,65,62,61,64,57])\n",
    "\n",
    "pairsam = spt.ttest_rel(before,after)\n",
    "print(pairsam)"
   ]
  },
  {
   "cell_type": "code",
   "execution_count": 5,
   "id": "2130fe1f",
   "metadata": {},
   "outputs": [
    {
     "name": "stdout",
     "output_type": "stream",
     "text": [
      "tstat = \t 0.23453251491009644 \n",
      "p-val = \t 0.8204627528467475 \n",
      "degree of freedom = \t 8.0\n",
      "(0.9982467120464241, (3.510806493921623, 0.0015764190017186505, 15.0), (3.458986471871119, 0.9982467120464241, 15.0))\n"
     ]
    }
   ],
   "source": [
    "# Statsmodels를 이용한 t test\n",
    "\n",
    "fre=data1['fre']\n",
    "sen=data1['sen']\n",
    "\n",
    "\n",
    "# 가설에는 two-sided / larger / smaller 3가지, 분산에는 pooled, unequal 2가지, value는 두 집단의 평균 차이가 얼마인지 나타내는 수\n",
    "tsams=sw.ttest_ind(fre,sen,alternative='two-sided',usevar='pooled',value=0)\n",
    "print('tstat = \\t',tsams[0],'\\np-val = \\t',tsams[1],'\\ndegree of freedom = \\t',tsams[2])\n",
    "\n",
    "\n",
    "\n",
    "# 쌍체검정 (One-sided)\n",
    "\n",
    "ptsams = sw.ttost_paired(before,after,0.1,0.2)\n",
    "print(ptsams)"
   ]
  },
  {
   "cell_type": "code",
   "execution_count": 6,
   "id": "e1c3a9a7",
   "metadata": {},
   "outputs": [
    {
     "name": "stdout",
     "output_type": "stream",
     "text": [
      "                                              sum_sq    df          F  \\\n",
      "C(fcategory, Sum)                          11.614700   2.0   0.276958   \n",
      "C(partner_status, Sum)                    212.213778   1.0  10.120692   \n",
      "C(fcategory, Sum):C(partner_status, Sum)  175.488928   2.0   4.184623   \n",
      "Residual                                  817.763961  39.0        NaN   \n",
      "\n",
      "                                            PR(>F)  \n",
      "C(fcategory, Sum)                         0.759564  \n",
      "C(partner_status, Sum)                    0.002874  \n",
      "C(fcategory, Sum):C(partner_status, Sum)  0.022572  \n",
      "Residual                                       NaN  \n"
     ]
    }
   ],
   "source": [
    "# Two-way ANOVA from statsmodels // Referred : https://www.statsmodels.org/stable/anova.html#module-statsmodels.stats.anova\n",
    "\n",
    "moore = sm.datasets.get_rdataset(\"Moore\", \"carData\", cache=True)\n",
    "\n",
    "data2 = moore.data\n",
    "\n",
    "data2 = data2.rename(columns={\"partner.status\":\"partner_status\"})\n",
    "\n",
    "moore_lm = ols('conformity ~ C(fcategory, Sum)*C(partner_status, Sum)',data=data2).fit()\n",
    "\n",
    "table = sm.stats.anova_lm(moore_lm, typ=2)\n",
    "\n",
    "print(table)"
   ]
  },
  {
   "cell_type": "code",
   "execution_count": null,
   "id": "808ff9b7",
   "metadata": {},
   "outputs": [],
   "source": []
  }
 ],
 "metadata": {
  "kernelspec": {
   "display_name": "Python 3",
   "language": "python",
   "name": "python3"
  },
  "language_info": {
   "codemirror_mode": {
    "name": "ipython",
    "version": 3
   },
   "file_extension": ".py",
   "mimetype": "text/x-python",
   "name": "python",
   "nbconvert_exporter": "python",
   "pygments_lexer": "ipython3",
   "version": "3.8.8"
  },
  "toc": {
   "base_numbering": 1,
   "nav_menu": {},
   "number_sections": true,
   "sideBar": true,
   "skip_h1_title": false,
   "title_cell": "Table of Contents",
   "title_sidebar": "Contents",
   "toc_cell": false,
   "toc_position": {},
   "toc_section_display": true,
   "toc_window_display": false
  },
  "varInspector": {
   "cols": {
    "lenName": 16,
    "lenType": 16,
    "lenVar": 40
   },
   "kernels_config": {
    "python": {
     "delete_cmd_postfix": "",
     "delete_cmd_prefix": "del ",
     "library": "var_list.py",
     "varRefreshCmd": "print(var_dic_list())"
    },
    "r": {
     "delete_cmd_postfix": ") ",
     "delete_cmd_prefix": "rm(",
     "library": "var_list.r",
     "varRefreshCmd": "cat(var_dic_list()) "
    }
   },
   "types_to_exclude": [
    "module",
    "function",
    "builtin_function_or_method",
    "instance",
    "_Feature"
   ],
   "window_display": false
  }
 },
 "nbformat": 4,
 "nbformat_minor": 5
}
