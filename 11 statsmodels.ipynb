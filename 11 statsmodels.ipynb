{
 "cells": [
  {
   "cell_type": "code",
   "execution_count": null,
   "metadata": {},
   "outputs": [],
   "source": [
    "# Referred from https://www.statsmodels.org/stable/examples/notebooks/generated\n",
    "import matplotlib.pyplot as plt\n",
    "import numpy as np\n",
    "import pandas as pd\n",
    "\n",
    "plt.rc(\"figure\", figsize=(16, 9))\n",
    "plt.rc(\"font\", size=16)"
   ]
  },
  {
   "cell_type": "code",
   "execution_count": null,
   "metadata": {},
   "outputs": [],
   "source": [
    "from statsmodels.tsa.deterministic import DeterministicProcess\n",
    "\n",
    "index = pd.RangeIndex(0, 100)\n",
    "det_proc = DeterministicProcess(index, constant=True, order=1, seasonal=True, period=5)\n",
    "det_proc.in_sample()"
   ]
  },
  {
   "cell_type": "code",
   "execution_count": null,
   "metadata": {},
   "outputs": [],
   "source": [
    "det_proc.out_of_sample(15)"
   ]
  },
  {
   "cell_type": "code",
   "execution_count": null,
   "metadata": {},
   "outputs": [],
   "source": [
    "det_proc.range(190, 210)"
   ]
  },
  {
   "cell_type": "code",
   "execution_count": null,
   "metadata": {},
   "outputs": [],
   "source": [
    "index = pd.period_range(\"2020-03-01\", freq=\"M\", periods=60)\n",
    "det_proc = DeterministicProcess(index, constant=True, fourier=2)\n",
    "det_proc.in_sample().head(12)"
   ]
  },
  {
   "cell_type": "code",
   "execution_count": null,
   "metadata": {},
   "outputs": [],
   "source": [
    "det_proc.out_of_sample(12)"
   ]
  },
  {
   "cell_type": "code",
   "execution_count": null,
   "metadata": {},
   "outputs": [],
   "source": [
    "det_proc.range(\"2025-01\", \"2026-01\")"
   ]
  },
  {
   "cell_type": "code",
   "execution_count": null,
   "metadata": {},
   "outputs": [],
   "source": [
    "det_proc.range(58, 70)"
   ]
  },
  {
   "cell_type": "code",
   "execution_count": null,
   "metadata": {},
   "outputs": [],
   "source": [
    "from statsmodels.tsa.deterministic import Fourier, Seasonality, TimeTrend\n",
    "\n",
    "index = pd.period_range(\"2020-03-01\", freq=\"D\", periods=2 * 365)\n",
    "tt = TimeTrend(constant=True)\n",
    "four = Fourier(period=365.25, order=2)\n",
    "seas = Seasonality(period=7)\n",
    "det_proc = DeterministicProcess(index, additional_terms=[tt, seas, four])\n",
    "det_proc.in_sample().head(28)"
   ]
  },
  {
   "cell_type": "code",
   "execution_count": null,
   "metadata": {},
   "outputs": [],
   "source": [
    "from statsmodels.tsa.deterministic import DeterministicTerm\n",
    "\n",
    "\n",
    "class BrokenTimeTrend(DeterministicTerm):\n",
    "    def __init__(self, break_period: int):\n",
    "        self._break_period = break_period\n",
    "\n",
    "    def __str__(self):\n",
    "        return \"Broken Time Trend\"\n",
    "\n",
    "    def _eq_attr(self):\n",
    "        return (self._break_period,)\n",
    "\n",
    "    def in_sample(self, index: pd.Index):\n",
    "        nobs = index.shape[0]\n",
    "        terms = np.zeros((nobs, 2))\n",
    "        terms[self._break_period :, 0] = 1\n",
    "        terms[self._break_period :, 1] = np.arange(self._break_period + 1, nobs + 1)\n",
    "        return pd.DataFrame(terms, columns=[\"const_break\", \"trend_break\"], index=index)\n",
    "\n",
    "    def out_of_sample(\n",
    "        self, steps: int, index: pd.Index, forecast_index: pd.Index = None\n",
    "    ):\n",
    "        # Always call extend index first\n",
    "        fcast_index = self._extend_index(index, steps, forecast_index)\n",
    "        nobs = index.shape[0]\n",
    "        terms = np.zeros((steps, 2))\n",
    "        # Assume break period is in-sample\n",
    "        terms[:, 0] = 1\n",
    "        terms[:, 1] = np.arange(nobs + 1, nobs + steps + 1)\n",
    "        return pd.DataFrame(\n",
    "            terms, columns=[\"const_break\", \"trend_break\"], index=fcast_index\n",
    "        )"
   ]
  },
  {
   "cell_type": "code",
   "execution_count": null,
   "metadata": {},
   "outputs": [],
   "source": [
    "btt = BrokenTimeTrend(60)\n",
    "tt = TimeTrend(constant=True, order=1)\n",
    "index = pd.RangeIndex(100)\n",
    "det_proc = DeterministicProcess(index, additional_terms=[tt, btt])\n",
    "det_proc.range(55, 65)"
   ]
  },
  {
   "cell_type": "code",
   "execution_count": null,
   "metadata": {},
   "outputs": [],
   "source": [
    "class ExogenousProcess(DeterministicTerm):\n",
    "    def __init__(self, data):\n",
    "        self._data = data\n",
    "\n",
    "    def __str__(self):\n",
    "        return \"Custom Exog Process\"\n",
    "\n",
    "    def _eq_attr(self):\n",
    "        return (id(self._data),)\n",
    "\n",
    "    def in_sample(self, index: pd.Index):\n",
    "        return self._data.loc[index]\n",
    "\n",
    "    def out_of_sample(\n",
    "        self, steps: int, index: pd.Index, forecast_index: pd.Index = None\n",
    "    ):\n",
    "        forecast_index = self._extend_index(index, steps, forecast_index)\n",
    "        return self._data.loc[forecast_index]"
   ]
  },
  {
   "cell_type": "code",
   "execution_count": null,
   "metadata": {},
   "outputs": [],
   "source": [
    "import numpy as np\n",
    "\n",
    "gen = np.random.default_rng(98765432101234567890)\n",
    "exog = pd.DataFrame(gen.integers(100, size=(300, 2)), columns=[\"exog1\", \"exog2\"])\n",
    "exog.head()"
   ]
  },
  {
   "cell_type": "code",
   "execution_count": null,
   "metadata": {},
   "outputs": [],
   "source": [
    "ep = ExogenousProcess(exog)\n",
    "tt = TimeTrend(constant=True, order=1)\n",
    "# The in-sample index\n",
    "idx = exog.index[:200]\n",
    "det_proc = DeterministicProcess(idx, additional_terms=[tt, ep])"
   ]
  },
  {
   "cell_type": "code",
   "execution_count": null,
   "metadata": {},
   "outputs": [],
   "source": [
    "det_proc.in_sample().head()"
   ]
  },
  {
   "cell_type": "code",
   "execution_count": null,
   "metadata": {},
   "outputs": [],
   "source": [
    "det_proc.out_of_sample(10)"
   ]
  },
  {
   "cell_type": "code",
   "execution_count": null,
   "metadata": {},
   "outputs": [],
   "source": [
    "gen = np.random.default_rng(98765432101234567890)\n",
    "idx = pd.RangeIndex(200)\n",
    "det_proc = DeterministicProcess(idx, constant=True, period=52, fourier=2)\n",
    "det_terms = det_proc.in_sample().to_numpy()\n",
    "params = np.array([1.0, 3, -1, 4, -2])\n",
    "exog = det_terms @ params\n",
    "y = np.empty(200)\n",
    "y[0] = det_terms[0] @ params + gen.standard_normal()\n",
    "for i in range(1, 200):\n",
    "    y[i] = 0.9 * y[i - 1] + det_terms[i] @ params + gen.standard_normal()\n",
    "y = pd.Series(y, index=idx)\n",
    "ax = y.plot()"
   ]
  },
  {
   "cell_type": "code",
   "execution_count": null,
   "metadata": {},
   "outputs": [],
   "source": [
    "from statsmodels.tsa.api import AutoReg\n",
    "\n",
    "mod = AutoReg(y, 1, trend=\"n\", deterministic=det_proc)\n",
    "res = mod.fit()\n",
    "print(res.summary())"
   ]
  },
  {
   "cell_type": "code",
   "execution_count": null,
   "metadata": {},
   "outputs": [],
   "source": [
    "fig = res.plot_predict(200, 200 + 2 * 52, True)"
   ]
  },
  {
   "cell_type": "code",
   "execution_count": null,
   "metadata": {},
   "outputs": [],
   "source": [
    "auto_reg_forecast = res.predict(200, 211)\n",
    "auto_reg_forecast"
   ]
  },
  {
   "cell_type": "code",
   "execution_count": null,
   "metadata": {},
   "outputs": [],
   "source": [
    "from statsmodels.tsa.api import SARIMAX\n",
    "\n",
    "det_proc = DeterministicProcess(idx, period=52, fourier=2)\n",
    "det_terms = det_proc.in_sample()\n",
    "\n",
    "mod = SARIMAX(y, order=(1, 0, 0), trend=\"c\", exog=det_terms)\n",
    "res = mod.fit(disp=False)\n",
    "print(res.summary())"
   ]
  },
  {
   "cell_type": "code",
   "execution_count": null,
   "metadata": {},
   "outputs": [],
   "source": [
    "sarimax_forecast = res.forecast(12, exog=det_proc.out_of_sample(12))\n",
    "df = pd.concat([auto_reg_forecast, sarimax_forecast], axis=1)\n",
    "df.columns = columns = [\"AutoReg\", \"SARIMAX\"]\n",
    "df"
   ]
  }
 ],
 "metadata": {
  "kernelspec": {
   "display_name": "Python 3",
   "language": "python",
   "name": "python3"
  },
  "language_info": {
   "codemirror_mode": {
    "name": "ipython",
    "version": 3
   },
   "file_extension": ".py",
   "mimetype": "text/x-python",
   "name": "python",
   "nbconvert_exporter": "python",
   "pygments_lexer": "ipython3",
   "version": "3.8.2"
  }
 },
 "nbformat": 4,
 "nbformat_minor": 4
}
