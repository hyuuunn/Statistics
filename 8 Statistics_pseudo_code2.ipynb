{
 "cells": [
  {
   "cell_type": "code",
   "execution_count": 1,
   "id": "85f9355b",
   "metadata": {},
   "outputs": [],
   "source": [
    "import scipy.stats as spt\n",
    "import numpy as np\n",
    "import pandas as pd\n",
    "import statsmodels.api as sm\n",
    "from statsmodels.formula.api import ols\n",
    "from statsmodels.stats.anova import anova_lm"
   ]
  },
  {
   "cell_type": "code",
   "execution_count": null,
   "id": "be1eda7a",
   "metadata": {},
   "outputs": [],
   "source": [
    "import rpy2.robjects as robjs\n",
    "from rpy2.robjects import r\n",
    "%load_ext rpy2.ipython\n",
    "# 변수 이동\n",
    "%Rpush data1"
   ]
  },
  {
   "cell_type": "code",
   "execution_count": null,
   "id": "729a276c",
   "metadata": {},
   "outputs": [],
   "source": [
    "print(r('aov_mdl <- aov(data1$miles ~ as.factor(data1$pad),data=data1)'))"
   ]
  },
  {
   "cell_type": "code",
   "execution_count": null,
   "id": "1fef077c",
   "metadata": {},
   "outputs": [],
   "source": [
    "robjs.packages.importr('agricolae')\n",
    "print(r('duncan.test(aov_mdl, \"as.factor(data1$pad)\", alpha = 0.05, console = TRUE)'))"
   ]
  },
  {
   "cell_type": "code",
   "execution_count": 11,
   "id": "42a43dc9",
   "metadata": {},
   "outputs": [
    {
     "name": "stdout",
     "output_type": "stream",
     "text": [
      "Power_divergenceResult(statistic=2.0, pvalue=0.8491450360846096)\n",
      "Power_divergenceResult(statistic=3.5, pvalue=0.6233876277495822)\n",
      "Power_divergenceResult(statistic=2.0, pvalue=array([0.84914504, 0.73575888, 0.5724067 ]))\n",
      "Power_divergenceResult(statistic=15.7, pvalue=0.007754884452437287)\n"
     ]
    }
   ],
   "source": [
    "# 카이제곱 검정 (적합도)\n",
    "\n",
    "print(spt.chisquare([16, 18, 16, 14, 12, 12]))\n",
    "\n",
    "print(spt.chisquare([16, 18, 16, 14, 12, 12], f_exp=[16, 16, 16, 16, 16, 8]))\n",
    "\n",
    "print(spt.chisquare([16, 18, 16, 14, 12, 12], ddof=[0,1,2]))\n",
    "\n",
    "obs=np.array([31,26,22,18,13,10])\n",
    "print(spt.chisquare(obs))"
   ]
  },
  {
   "cell_type": "code",
   "execution_count": 2,
   "id": "8d88f5a0",
   "metadata": {},
   "outputs": [
    {
     "name": "stdout",
     "output_type": "stream",
     "text": [
      "Power_divergenceResult(statistic=2.0, pvalue=0.8491450360846096)\n",
      "Power_divergenceResult(statistic=3.5, pvalue=0.6233876277495822)\n",
      "Power_divergenceResult(statistic=2.0, pvalue=array([0.84914504, 0.73575888, 0.5724067 ]))\n",
      "Power_divergenceResult(statistic=15.7, pvalue=0.007754884452437287)\n"
     ]
    }
   ],
   "source": [
    "# 카이제곱 검정 (적합도)\n",
    "\n",
    "print(spt.chisquare([16, 18, 16, 14, 12, 12]))\n",
    "\n",
    "print(spt.chisquare([16, 18, 16, 14, 12, 12], f_exp=[16, 16, 16, 16, 16, 8]))\n",
    "\n",
    "print(spt.chisquare([16, 18, 16, 14, 12, 12], ddof=[0,1,2]))\n",
    "\n",
    "obs=np.array([31,26,22,18,13,10])\n",
    "print(spt.chisquare(obs))"
   ]
  },
  {
   "cell_type": "code",
   "execution_count": 4,
   "id": "5e28207e",
   "metadata": {},
   "outputs": [
    {
     "data": {
      "text/html": [
       "<div>\n",
       "<style scoped>\n",
       "    .dataframe tbody tr th:only-of-type {\n",
       "        vertical-align: middle;\n",
       "    }\n",
       "\n",
       "    .dataframe tbody tr th {\n",
       "        vertical-align: top;\n",
       "    }\n",
       "\n",
       "    .dataframe thead th {\n",
       "        text-align: right;\n",
       "    }\n",
       "</style>\n",
       "<table border=\"1\" class=\"dataframe\">\n",
       "  <thead>\n",
       "    <tr style=\"text-align: right;\">\n",
       "      <th></th>\n",
       "      <th>COUNTS</th>\n",
       "      <th>LINE</th>\n",
       "      <th>QUALITY</th>\n",
       "    </tr>\n",
       "  </thead>\n",
       "  <tbody>\n",
       "    <tr>\n",
       "      <th>0</th>\n",
       "      <td>20</td>\n",
       "      <td>A</td>\n",
       "      <td>1</td>\n",
       "    </tr>\n",
       "    <tr>\n",
       "      <th>1</th>\n",
       "      <td>16</td>\n",
       "      <td>A</td>\n",
       "      <td>2</td>\n",
       "    </tr>\n",
       "    <tr>\n",
       "      <th>2</th>\n",
       "      <td>24</td>\n",
       "      <td>A</td>\n",
       "      <td>3</td>\n",
       "    </tr>\n",
       "    <tr>\n",
       "      <th>3</th>\n",
       "      <td>28</td>\n",
       "      <td>A</td>\n",
       "      <td>4</td>\n",
       "    </tr>\n",
       "    <tr>\n",
       "      <th>4</th>\n",
       "      <td>12</td>\n",
       "      <td>A</td>\n",
       "      <td>5</td>\n",
       "    </tr>\n",
       "  </tbody>\n",
       "</table>\n",
       "</div>"
      ],
      "text/plain": [
       "   COUNTS LINE QUALITY\n",
       "0      20    A       1\n",
       "1      16    A       2\n",
       "2      24    A       3\n",
       "3      28    A       4\n",
       "4      12    A       5"
      ]
     },
     "execution_count": 4,
     "metadata": {},
     "output_type": "execute_result"
    }
   ],
   "source": [
    "# 카이제곱 검정 (교차분석)\n",
    "homd=pd.read_csv('hom_ind.csv',dtype={'QUALITY' : 'object'})\n",
    "homd.head()"
   ]
  },
  {
   "cell_type": "code",
   "execution_count": 5,
   "id": "232c1509",
   "metadata": {},
   "outputs": [
    {
     "name": "stdout",
     "output_type": "stream",
     "text": [
      "(38.91388658559004, 0.00010872733726640437, 12, array([[15.5 , 15.5 , 15.5 , 15.5 ],\n",
      "       [21.  , 21.  , 21.  , 21.  ],\n",
      "       [20.5 , 20.5 , 20.5 , 20.5 ],\n",
      "       [21.75, 21.75, 21.75, 21.75],\n",
      "       [21.25, 21.25, 21.25, 21.25]]))\n"
     ]
    }
   ],
   "source": [
    "print(spt.chi2_contingency([homd.COUNTS[homd.QUALITY=='1'],homd.COUNTS[homd.QUALITY=='2'],\n",
    "                           homd.COUNTS[homd.QUALITY=='3'],homd.COUNTS[homd.QUALITY=='4'],homd.COUNTS[homd.QUALITY=='5']]))"
   ]
  },
  {
   "cell_type": "code",
   "execution_count": 6,
   "id": "92fc2b78",
   "metadata": {},
   "outputs": [
    {
     "name": "stdout",
     "output_type": "stream",
     "text": [
      "[[[20 16 24 28 12]]\n",
      "\n",
      " [[13 17 30 15 25]]\n",
      "\n",
      " [[20 20 15 15 30]]\n",
      "\n",
      " [[ 9 31 13 29 18]]]\n"
     ]
    }
   ],
   "source": [
    "ss=np.array([[homd.COUNTS[0:5]],[homd.COUNTS[5:10]],[homd.COUNTS[10:15]],[homd.COUNTS[15:20]]])\n",
    "print(ss)"
   ]
  },
  {
   "cell_type": "code",
   "execution_count": 7,
   "id": "3635ef32",
   "metadata": {},
   "outputs": [
    {
     "name": "stdout",
     "output_type": "stream",
     "text": [
      "38.913886585590035\n"
     ]
    }
   ],
   "source": [
    "t_chi2=0\n",
    "for i in range(4):\n",
    "    for j in range(5):\n",
    "        O = ss[i][0][j]\n",
    "        E = (ss[i][0][0]+ss[i][0][1]+ss[i][0][2]+ss[i][0][3]+ss[i][0][4])*(ss[0][0][j]+ss[1][0][j]+ss[2][0][j]+ss[3][0][j]) / 400\n",
    "        t_chi2 += (O-E)**2/E\n",
    "print(t_chi2)"
   ]
  },
  {
   "cell_type": "code",
   "execution_count": 8,
   "id": "67ebd94d",
   "metadata": {},
   "outputs": [
    {
     "name": "stdout",
     "output_type": "stream",
     "text": [
      "0.00010872733726641215\n"
     ]
    }
   ],
   "source": [
    "p_val = 1 - spt.chi2.cdf(t_chi2, 12)\n",
    "print(p_val)"
   ]
  },
  {
   "cell_type": "code",
   "execution_count": null,
   "id": "61c49543",
   "metadata": {},
   "outputs": [],
   "source": []
  }
 ],
 "metadata": {
  "kernelspec": {
   "display_name": "Python 3",
   "language": "python",
   "name": "python3"
  },
  "language_info": {
   "codemirror_mode": {
    "name": "ipython",
    "version": 3
   },
   "file_extension": ".py",
   "mimetype": "text/x-python",
   "name": "python",
   "nbconvert_exporter": "python",
   "pygments_lexer": "ipython3",
   "version": "3.8.8"
  },
  "toc": {
   "base_numbering": 1,
   "nav_menu": {},
   "number_sections": true,
   "sideBar": true,
   "skip_h1_title": false,
   "title_cell": "Table of Contents",
   "title_sidebar": "Contents",
   "toc_cell": false,
   "toc_position": {},
   "toc_section_display": true,
   "toc_window_display": false
  },
  "varInspector": {
   "cols": {
    "lenName": 16,
    "lenType": 16,
    "lenVar": 40
   },
   "kernels_config": {
    "python": {
     "delete_cmd_postfix": "",
     "delete_cmd_prefix": "del ",
     "library": "var_list.py",
     "varRefreshCmd": "print(var_dic_list())"
    },
    "r": {
     "delete_cmd_postfix": ") ",
     "delete_cmd_prefix": "rm(",
     "library": "var_list.r",
     "varRefreshCmd": "cat(var_dic_list()) "
    }
   },
   "types_to_exclude": [
    "module",
    "function",
    "builtin_function_or_method",
    "instance",
    "_Feature"
   ],
   "window_display": false
  }
 },
 "nbformat": 4,
 "nbformat_minor": 5
}
